{
 "cells": [
  {
   "cell_type": "code",
   "execution_count": 1,
   "id": "satisfied-organ",
   "metadata": {},
   "outputs": [],
   "source": [
    "from contextlib import contextmanager,redirect_stderr,redirect_stdout\n",
    "from os import devnull\n",
    "\n",
    "@contextmanager\n",
    "def suppress_stdout_stderr():\n",
    "    \"\"\"A context manager that redirects stdout and stderr to devnull\"\"\"\n",
    "    with open(devnull, 'w') as fnull:\n",
    "        with redirect_stderr(fnull) as err, redirect_stdout(fnull) as out:\n",
    "            yield (err, out)\n",
    "\n",
    "import simpy\n",
    "import numpy as np\n",
    "import pandas as pd\n",
    "from numpy import random\n",
    "import math\n",
    "import matplotlib as plt\n",
    "import seaborn as sns\n",
    "from fifo import startSimulation as fifo\n",
    "from helper import print_sim_results\n",
    "\n",
    "from ticket import startSimulation as ticket\n",
    "RANDOM_SEED = 42\n",
    "### problem paramters ####\n",
    "parameters = {\n",
    "    \"order_time_mu\" : 4,\n",
    "    \"order_time_min\" : 1,\n",
    "    \"food_prepare_mu\" : 6,\n",
    "    \"food_prepare_min\" : 1,\n",
    "    \"lamb\" : 2.5\n",
    "}\n",
    "n_kitchen = 2\n",
    "n_counter = 3\n",
    "n_customer = 2000\n",
    "SIM_TIME = 50 * 60\n",
    "\n",
    "\n",
    "column_names = [\"Arrival Time\",\"Current Q Length\",\"Q time\",\"Service Start Time\",\n",
    "                \"Food prepare start\",\"Exit system time\",\"Food Prepare Duration\",\n",
    "                \"Total Wait Time(Queue+Food)\",\"Service Time\",\"Total Time in System\"]"
   ]
  },
  {
   "cell_type": "code",
   "execution_count": 2,
   "id": "amateur-surface",
   "metadata": {
    "scrolled": true
   },
   "outputs": [],
   "source": [
    "with suppress_stdout_stderr():\n",
    "    ticket_results = ticket(n_customer,n_counter,n_kitchen,SIM_TIME,parameters)\n",
    "#     fifo_results = fifo(n_customer,n_counter,n_kitchen,SIM_TIME,parameters) "
   ]
  },
  {
   "cell_type": "code",
   "execution_count": 3,
   "id": "checked-georgia",
   "metadata": {},
   "outputs": [
    {
     "name": "stdout",
     "output_type": "stream",
     "text": [
      "Ticket\n",
      "\n",
      "1045 Customers served\n",
      "Total Simulation Time=> 3000.00 Minutes\n",
      "Total Idle Time for 3 Counters=> -1389.00 Minutes\n",
      "Average Queue Length=> 368 \n",
      "Max Queue Length=> 719 \n",
      "\n",
      "Average Waiting Time => 1883.07 Minutes\n",
      "Average Service Time => 4.20 Minutes\n",
      "Average Time Spent In System => 1313.57 Minutes\n"
     ]
    }
   ],
   "source": [
    "print(\"Ticket\")\n",
    "print_sim_results(ticket_results,n_kitchen,n_counter)"
   ]
  },
  {
   "cell_type": "code",
   "execution_count": 4,
   "id": "dramatic-choice",
   "metadata": {
    "jupyter": {
     "source_hidden": true
    }
   },
   "outputs": [],
   "source": [
    "# print(\"Fifo\")\n",
    "# print_sim_results(fifo_results,n_kitchen,n_counter)"
   ]
  },
  {
   "cell_type": "code",
   "execution_count": 71,
   "id": "capable-hearts",
   "metadata": {},
   "outputs": [],
   "source": [
    "val_lamb = np.arange(1, 10, 0.05)\n",
    "# ticket_results = []\n",
    "avg_waiting = np.zeros([len(val_lamb),2])\n",
    "\n",
    "with suppress_stdout_stderr():\n",
    "    for i in range(len(val_lamb)):\n",
    "        parameters[\"lamb\"] = val_lamb[i]\n",
    "        ticket_results = ticket(n_customer,n_counter,n_kitchen,SIM_TIME,parameters)\n",
    "        fifo_results = fifo(n_customer,n_counter,n_kitchen,SIM_TIME,parameters) \n",
    "        \n",
    "        avg_waiting[i] =[ticket_results[0].iloc[:,7].mean(),\n",
    "                         fifo_results[0].iloc[:,7].mean()]"
   ]
  },
  {
   "cell_type": "code",
   "execution_count": 72,
   "id": "collected-cabin",
   "metadata": {},
   "outputs": [],
   "source": [
    "# ticket_results[0].iloc[:,2].mean()/SIM_TIME"
   ]
  },
  {
   "cell_type": "code",
   "execution_count": 73,
   "id": "transsexual-suffering",
   "metadata": {},
   "outputs": [
    {
     "data": {
      "text/plain": [
       "<seaborn.axisgrid.FacetGrid at 0x7ff66b941a00>"
      ]
     },
     "execution_count": 73,
     "metadata": {},
     "output_type": "execute_result"
    },
    {
     "data": {
      "image/png": "[encoded data removed]",
      "text/plain": [
       "<Figure size 402.375x360 with 1 Axes>"
      ]
     },
     "metadata": {
      "needs_background": "light"
     },
     "output_type": "display_data"
    }
   ],
   "source": [
    "# avg = pd.DataFrame(avg_waiting,index=val_lamb,\n",
    "#                    columns = [\"fifo\",\"ticket\"])\n",
    "sns.displot(avg_waiting,kind=\"kde\")"
   ]
  },
  {
   "cell_type": "code",
   "execution_count": null,
   "id": "sitting-painting",
   "metadata": {
    "jupyter": {
     "source_hidden": true
    }
   },
   "outputs": [],
   "source": []
  }
 ],
 "metadata": {
  "kernelspec": {
   "display_name": "Python 3",
   "language": "python",
   "name": "python3"
  },
  "language_info": {
   "codemirror_mode": {
    "name": "ipython",
    "version": 3
   },
   "file_extension": ".py",
   "mimetype": "text/x-python",
   "name": "python",
   "nbconvert_exporter": "python",
   "pygments_lexer": "ipython3",
   "version": "3.8.5"
  }
 },
 "nbformat": 4,
 "nbformat_minor": 5
}
