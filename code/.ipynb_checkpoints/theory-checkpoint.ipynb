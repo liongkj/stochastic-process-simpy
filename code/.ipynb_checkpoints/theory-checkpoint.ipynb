{
 "cells": [
  {
   "cell_type": "code",
   "execution_count": 1,
   "id": "described-survivor",
   "metadata": {},
   "outputs": [],
   "source": [
    "import numpy as np\n",
    "import math\n",
    "import pandas as pd\n",
    "import matplotlib.pyplot as plt\n",
    "import seaborn as sns\n",
    "lamb = 2\n",
    "mu = 4\n",
    "c = 2"
   ]
  },
  {
   "cell_type": "code",
   "execution_count": 2,
   "id": "blank-summer",
   "metadata": {},
   "outputs": [],
   "source": [
    "def count_wait_times(lamb,mu,c):\n",
    "    rho = lamb/ (c*mu)\n",
    "    p = np.zeros(c)\n",
    "    for i in range(c):\n",
    "        p[i] = np.power(c*rho,i)/math.factorial(i)\n",
    "    \n",
    "    p_0 = 1/ (np.sum(p) + (np.power(c*rho,c)/(math.factorial(c)*(1-rho))))\n",
    "    N_q = (p_0 * np.power((lamb/mu),c)*rho) /( math.factorial(c)*np.power(1-rho,2))\n",
    "    return N_q / lamb"
   ]
  },
  {
   "cell_type": "code",
   "execution_count": 3,
   "id": "attended-gather",
   "metadata": {},
   "outputs": [
    {
     "ename": "NameError",
     "evalue": "name 'p_0' is not defined",
     "output_type": "error",
     "traceback": [
      "\u001b[0;31m---------------------------------------------------------------------------\u001b[0m",
      "\u001b[0;31mNameError\u001b[0m                                 Traceback (most recent call last)",
      "\u001b[0;32m<ipython-input-3-d3515c2e45ef>\u001b[0m in \u001b[0;36m<module>\u001b[0;34m\u001b[0m\n\u001b[1;32m      1\u001b[0m \u001b[0mcount_wait_times\u001b[0m\u001b[0;34m(\u001b[0m\u001b[0mlamb\u001b[0m\u001b[0;34m,\u001b[0m\u001b[0mmu\u001b[0m\u001b[0;34m,\u001b[0m\u001b[0mc\u001b[0m\u001b[0;34m)\u001b[0m\u001b[0;34m\u001b[0m\u001b[0;34m\u001b[0m\u001b[0m\n\u001b[1;32m      2\u001b[0m \u001b[0;31m# p\u001b[0m\u001b[0;34m\u001b[0m\u001b[0;34m\u001b[0m\u001b[0;34m\u001b[0m\u001b[0m\n\u001b[0;32m----> 3\u001b[0;31m \u001b[0mp_0\u001b[0m\u001b[0;34m\u001b[0m\u001b[0;34m\u001b[0m\u001b[0m\n\u001b[0m",
      "\u001b[0;31mNameError\u001b[0m: name 'p_0' is not defined"
     ]
    }
   ],
   "source": [
    "\n",
    "val_lamb = np.arange(1.0,8.0, 0.05)\n",
    "avg_waiting = np.zeros([len(val_lamb),1])\n",
    "for i in range(len(val_lamb)):\n",
    "    avg_waiting[i] = count_wait_times(val_lamb[i],mu,c)"
   ]
  },
  {
   "cell_type": "code",
   "execution_count": null,
   "id": "every-edmonton",
   "metadata": {},
   "outputs": [],
   "source": []
  },
  {
   "cell_type": "code",
   "execution_count": null,
   "id": "economic-instrumentation",
   "metadata": {},
   "outputs": [],
   "source": [
    "\n"
   ]
  },
  {
   "cell_type": "code",
   "execution_count": null,
   "id": "banner-payday",
   "metadata": {},
   "outputs": [],
   "source": []
  }
 ],
 "metadata": {
  "kernelspec": {
   "display_name": "Python 3",
   "language": "python",
   "name": "python3"
  },
  "language_info": {
   "codemirror_mode": {
    "name": "ipython",
    "version": 3
   },
   "file_extension": ".py",
   "mimetype": "text/x-python",
   "name": "python",
   "nbconvert_exporter": "python",
   "pygments_lexer": "ipython3",
   "version": "3.8.5"
  }
 },
 "nbformat": 4,
 "nbformat_minor": 5
}
