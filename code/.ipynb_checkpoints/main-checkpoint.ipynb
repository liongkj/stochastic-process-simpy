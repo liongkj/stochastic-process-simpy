{
 "cells": [
  {
   "cell_type": "code",
   "execution_count": 4,
   "id": "increasing-destruction",
   "metadata": {},
   "outputs": [],
   "source": [
    "from contextlib import contextmanager,redirect_stderr,redirect_stdout\n",
    "from os import devnull\n",
    "\n",
    "@contextmanager\n",
    "def suppress_stdout_stderr():\n",
    "    \"\"\"A context manager that redirects stdout and stderr to devnull\"\"\"\n",
    "    with open(devnull, 'w') as fnull:\n",
    "        with redirect_stderr(fnull) as err, redirect_stdout(fnull) as out:\n",
    "            yield (err, out)\n",
    "\n",
    "import simpy\n",
    "import numpy as np\n",
    "import pandas as pd\n",
    "from numpy import random\n",
    "import math\n",
    "import matplotlib.pyplot as plt\n",
    "import seaborn as sns\n",
    "from fifo import startSimulation as fifo\n",
    "from helper import print_sim_results\n",
    "\n",
    "from ticket import startSimulation as ticket\n",
    "RANDOM_SEED = 42\n",
    "### problem paramters ####\n",
    "fixed_parameters = {\n",
    "    \"order_time_mu\" : 1.5,\n",
    "    \"order_time_min\" : 1,\n",
    "    \"food_prepare_mu\" : 1.5,\n",
    "    \"food_prepare_min\" : 1,\n",
    "    \"lamb\" : 3 #smaller means lower rate of ppl arriving\n",
    "}\n",
    "n_kitchen = 5\n",
    "n_counter = 5\n",
    "n_customer = 2000\n",
    "SIM_TIME = 10000\n",
    "\n",
    "\n",
    "column_names = [\"Arrival Time\",\"Current Q Length\",\"Q time\",\n",
    "                \"Service Start Time\",\"Food prepare start\",\"Exit system time\",\n",
    "                \"Food Prepare Duration\",\"Total Wait Time(Queue+Food)\",\"Service Time\",\n",
    "                \"Total Time in System\"]"
   ]
  },
  {
   "cell_type": "code",
   "execution_count": 5,
   "id": "viral-aside",
   "metadata": {
    "scrolled": true
   },
   "outputs": [],
   "source": [
    "with suppress_stdout_stderr():\n",
    "    ticket_results = ticket(n_customer,n_counter,n_kitchen,SIM_TIME,fixed_parameters)\n",
    "    fifo_results = fifo(n_customer,n_counter,n_kitchen,SIM_TIME,fixed_parameters) "
   ]
  },
  {
   "cell_type": "code",
   "execution_count": null,
   "id": "insured-rapid",
   "metadata": {},
   "outputs": [],
   "source": [
    "# print(\"Ticket\")\n",
    "print_sim_results(ticket_results,n_kitchen,n_counter)"
   ]
  },
  {
   "cell_type": "code",
   "execution_count": 7,
   "id": "separated-inflation",
   "metadata": {
    "jupyter": {
     "source_hidden": true
    }
   },
   "outputs": [
    {
     "name": "stdout",
     "output_type": "stream",
     "text": [
      "Fifo\n",
      "\n",
      "1000 Customers served\n",
      "Total Simulation Time=> 697.50 Minutes\n",
      "Total Idle Time for 5 Counters=> 1777.80 Minutes\n",
      "Total Service Time for 5 Counters=> 7011.69 Minutes\n",
      "Average Queue Length=> 220 \n",
      "Max Queue Length=> 458 \n",
      "\n",
      "Average Waiting Time => 156.35 Minutes\n",
      "Average Service Time => 3.47 Minutes\n",
      "Average Time Spent In System => 158.05 Minutes\n"
     ]
    }
   ],
   "source": [
    "print(\"Fifo\")\n",
    "print_sim_results(fifo_results,n_kitchen,n_counter)"
   ]
  },
  {
   "cell_type": "code",
   "execution_count": 8,
   "id": "extended-reader",
   "metadata": {
    "jupyter": {
     "source_hidden": true
    }
   },
   "outputs": [],
   "source": [
    "parameters = {\n",
    "    \"order_time_mu\" : 1.5,\n",
    "    \"order_time_min\" : 1,\n",
    "    \"food_prepare_mu\" : 1.5,\n",
    "    \"food_prepare_min\" : 1,\n",
    "    \"lamb\" : 3 #smaller means lower rate of ppl arriving\n",
    "}"
   ]
  },
  {
   "cell_type": "code",
   "execution_count": null,
   "id": "smoking-africa",
   "metadata": {
    "jupyter": {
     "source_hidden": true
    }
   },
   "outputs": [],
   "source": [
    "val_lamb = np.arange(1.0,12.0, 0.1)\n",
    "val_lamb.shape\n",
    "# ticket_results = []\n",
    "avg_waiting = np.zeros([len(val_lamb),2])\n",
    "avg_system = np.zeros([len(val_lamb),2])\n",
    "avg_no_customer_waiting = np.zeros([len(val_lamb),2])\n",
    "\n",
    "with suppress_stdout_stderr():\n",
    "    for i in range(len(val_lamb)):\n",
    "        parameters[\"lamb\"] = val_lamb[i]\n",
    "        ticket_results = ticket(n_customer,n_counter,n_kitchen,SIM_TIME,parameters)\n",
    "        fifo_results = fifo(n_customer,n_counter,n_kitchen,SIM_TIME,parameters) \n",
    "        \n",
    "        avg_waiting[i] =[ticket_results[0].iloc[:,7].mean()/ticket_results[-1], fifo_results[0].iloc[:,7].mean()/fifo_results[-1]]\n",
    "        avg_system[i] =[ticket_results[0].iloc[:,9].mean()/ticket_results[-1], fifo_results[0].iloc[:,9].mean()/fifo_results[-1]]\n",
    "        avg_no_customer_waiting[i] = [ticket_results[0].iloc[:,1].mean(), fifo_results[0].iloc[:,1].mean()]"
   ]
  },
  {
   "cell_type": "code",
   "execution_count": null,
   "id": "pharmaceutical-tucson",
   "metadata": {},
   "outputs": [],
   "source": [
    "val_counter = np.arange(1,10.0, 1)\n",
    "val_kitchen = np.arange(1,10.0, 1)\n",
    "service_rate_fix_counter = np.zeros([len(val_counter),2])\n",
    "service_rate = np.zeros([len(val_counter),2])\n",
    "n_kitchen = 3\n",
    "with suppress_stdout_stderr():\n",
    "    for i in range(len(val_counter)):\n",
    "        ticket_results = ticket(n_customer,val_counter[i],n_kitchen,SIM_TIME,parameters)\n",
    "        fifo_results = fifo(n_customer,val_counter[i],n_kitchen,SIM_TIME,parameters)\n",
    "        \n",
    "        total_counter_sim_ticket =(val_counter[i]*ticket_results[6]);\n",
    "        total_counter_sim_fifo =(val_counter[i]*fifo_results[6]);\n",
    "        \n",
    "#         idle_rate[i]=[ticket_results[5]/total_counter_sim_ticket, fifo_results[5]/total_counter_sim_fifo]\n",
    "        service_rate[i]=[ticket_results[4] /total_counter_sim_ticket, (fifo_results[4] - fifo_results[5])/total_counter_sim_fifo]"
   ]
  },
  {
   "cell_type": "code",
   "execution_count": null,
   "id": "looking-exhibit",
   "metadata": {},
   "outputs": [],
   "source": [
    "# pd_rho\n",
    "service_rate"
   ]
  },
  {
   "cell_type": "code",
   "execution_count": null,
   "id": "invalid-weight",
   "metadata": {},
   "outputs": [],
   "source": [
    "pd_rho = pd.DataFrame(service_rate,columns=[\"ticket\",\"fifo\"],index=val_counter)\n",
    "pd_rho[\"n_counter\"] = val_counter\n",
    "# pd_rho = pd.DataFrame(service_rate1,columns=[\"ticket\",\"fifo\"],index=val_counter)\n",
    "\n",
    "fig, ax =plt.subplots(1,2, sharey=False,figsize = (10,5))\n",
    "\n",
    "ax[0].set_title('n_kitchen = %s' %n_kitchen)\n",
    "\n",
    "ax[1].set_title(\"n_counter = %s\" %n_kitchen)\n",
    "sns.lineplot(data=pd.melt(pd_rho,['n_counter']),ax=ax[0],x=\"n_counter\",y=\"value\",hue=\"variable\")\n",
    "# sns.histplot(data=rho2,ax=ax[1],kde=True,element=\"step\")"
   ]
  },
  {
   "cell_type": "code",
   "execution_count": null,
   "id": "strategic-shark",
   "metadata": {},
   "outputs": [],
   "source": [
    "df_avg_total_wait = pd.DataFrame(avg_waiting,columns=[\"ticket\",\"fifo\"],index=val_lamb)\n",
    "# df_avg_total_wait['x1'] = val_lamb\n",
    "df_avg_system_time = pd.DataFrame(avg_system,columns=[\"ticket\",\"fifo\"],index=val_lamb)\n",
    "df_avg_no_customer_waiting = pd.DataFrame(avg_no_customer_waiting,columns=[\"ticket\",\"fifo\"],index=val_lamb)"
   ]
  },
  {
   "cell_type": "code",
   "execution_count": null,
   "id": "optional-grass",
   "metadata": {},
   "outputs": [],
   "source": [
    "parameters[\"lamb\"]  = fixed_parameters[\"lamb\"] #reset\n"
   ]
  },
  {
   "cell_type": "code",
   "execution_count": null,
   "id": "accessory-johns",
   "metadata": {},
   "outputs": [],
   "source": [
    "val_mu = np.arange(30.0,1.0, -0.5)\n",
    "avg_waiting_fix_mu = np.zeros([len(val_mu),2])\n",
    "avg_system_fix_mu = np.zeros([len(val_mu),2])\n",
    "avg_no_customer_waiting_fix_mu = np.zeros([len(val_mu),2])\n",
    "with suppress_stdout_stderr():\n",
    "    for i in range(len(val_mu)):\n",
    "        parameters[\"order_time_mu\"] = val_mu[i]\n",
    "        parameters[\"food_prepare_mu\"] = val_mu[i]\n",
    "        ticket_results = ticket(n_customer,n_counter,n_kitchen,SIM_TIME,parameters)\n",
    "        fifo_results = fifo(n_customer,n_counter,n_kitchen,SIM_TIME,parameters) \n",
    "        \n",
    "        avg_waiting_fix_mu[i] =[ticket_results[0].iloc[:,7].mean()/ticket_results[-1], fifo_results[0].iloc[:,7].mean()/fifo_results[-1]]\n",
    "        avg_system_fix_mu[i] =[ticket_results[0].iloc[:,9].mean()/ticket_results[-1], fifo_results[0].iloc[:,9].mean()/fifo_results[-1]]\n",
    "        avg_no_customer_waiting_fix_mu[i] = [ticket_results[0].iloc[:,1].mean(), fifo_results[0].iloc[:,1].mean()]\n",
    "        \n",
    "#         avg_waiting[i] =[ticket_results[0].iloc[:,7].mean(),\n",
    "#                          fifo_results[0].iloc[:,7].mean()]\n",
    "#         avg_waiting[i] =[ticket_results[0].iloc[:,7].mean()/ticket_results[-1],\n",
    "#                          fifo_results[0].iloc[:,7].mean()/fifo_results[-1]]\n",
    "df_avg_total_wait_fix_mu = pd.DataFrame(avg_waiting_fix_mu,columns=[\"ticket\",\"fifo\"])\n",
    "df_avg_system_time_fix_mu = pd.DataFrame(avg_system_fix_mu,columns=[\"ticket\",\"fifo\"])\n",
    "df_avg_no_customer_waiting_fix_mu = pd.DataFrame(avg_no_customer_waiting_fix_mu,columns=[\"ticket\",\"fifo\"])"
   ]
  },
  {
   "cell_type": "code",
   "execution_count": null,
   "id": "diagnostic-central",
   "metadata": {},
   "outputs": [],
   "source": [
    "parameters[\"order_time_mu\"] = 1.5\n",
    "# df_avg_total_wait"
   ]
  },
  {
   "cell_type": "code",
   "execution_count": null,
   "id": "careful-saudi",
   "metadata": {},
   "outputs": [],
   "source": [
    "fig, ax =plt.subplots(1,2, sharey=False,figsize = (10,5))\n",
    "sns.histplot(data=df_avg_total_wait,ax=ax[0],stat=\"probability\",kde=True,element=\"step\",)\n",
    "# ax[0].plot(r,fit=True)\n",
    "sns.histplot(data=df_avg_total_wait_fix_mu,ax=ax[1],kde=True,stat=\"probability\",element=\"step\")\n",
    "fig.suptitle(\"Average total time spend waiting\")\n",
    "ax[0].set(xlabel=\"variable lambda plot\")\n",
    "ax[1].set(xlabel=\"variable mu plot\")\n",
    "ax[0].set_title('Mu = %.2f' %fixed_parameters[\"order_time_mu\"])\n",
    "\n",
    "ax[1].set_title(\"lambda = %.2f\" %fixed_parameters[\"lamb\"])\n",
    "plt.show()\n",
    "# plt.xlabel(\"lambda\")\n",
    "fig.savefig('../images/mean_waiting.png')\n",
    "# plt.title(\" againts lambda\")\n",
    "# plt.xlabel(\"lambda\")\n",
    "# plt.ylabel(\"Avg total waiting time (min)\")\n"
   ]
  },
  {
   "cell_type": "code",
   "execution_count": null,
   "id": "collaborative-religious",
   "metadata": {},
   "outputs": [],
   "source": [
    "fig, ax =plt.subplots(1,2, sharey=False,figsize = (10,5))\n",
    "sns.histplot(data=df_avg_system_time,ax=ax[0],stat=\"probability\",kde=True,element=\"step\")\n",
    "sns.histplot(data=df_avg_system_time_fix_mu,ax=ax[1],stat=\"probability\",kde=True,element=\"step\",)\n",
    "ax[0].set_title('Mu = %.2f' %fixed_parameters[\"order_time_mu\"])\n",
    "ax[1].set_title(\"lambda = %.2f\" %fixed_parameters[\"lamb\"])\n",
    "ax[0].set(xlabel=\"lambda\")\n",
    "ax[1].set(xlabel=\"mu\")\n",
    "plt.suptitle(\"Mean total time spend in system\")\n",
    "plt.show()\n",
    "# plt.xlabel(\"lambda\")\n",
    "fig.savefig('../images/mean_time_in_system.png')\n"
   ]
  },
  {
   "cell_type": "code",
   "execution_count": null,
   "id": "assured-dietary",
   "metadata": {},
   "outputs": [],
   "source": [
    "fig, ax =plt.subplots(1,2, sharey=False,figsize = (10,5))\n",
    "sns.histplot(data=df_avg_no_customer_waiting,ax=ax[0],kde=True,element=\"step\")\n",
    "sns.histplot(data=df_avg_no_customer_waiting_fix_mu,ax=ax[1],kde=True,element=\"step\")\n",
    "ax[0].set_title('Mu = %.2f' %fixed_parameters[\"order_time_mu\"])\n",
    "ax[1].set_title(\"lambda = %.2f\" %fixed_parameters[\"lamb\"])\n",
    "ax[0].set(xlabel=\"Variable lambda\")\n",
    "ax[1].set(xlabel=\"Variable mu\")\n",
    "plt.suptitle(\"Mean queue length\")\n",
    "\n",
    "plt.ylabel(\"No. of customers\")\n",
    "\n",
    "fig.savefig('../images/mean_queue_length.png')"
   ]
  },
  {
   "cell_type": "code",
   "execution_count": null,
   "id": "formed-capacity",
   "metadata": {},
   "outputs": [],
   "source": [
    "utilization_rate"
   ]
  },
  {
   "cell_type": "code",
   "execution_count": null,
   "id": "computational-finish",
   "metadata": {},
   "outputs": [],
   "source": []
  }
 ],
 "metadata": {
  "kernelspec": {
   "display_name": "Python 3.8 (XPython)",
   "language": "python",
   "name": "xpython"
  },
  "language_info": {
   "file_extension": ".py",
   "mimetype": "text/x-python",
   "name": "python",
   "version": "3.8.6"
  }
 },
 "nbformat": 4,
 "nbformat_minor": 5
}
