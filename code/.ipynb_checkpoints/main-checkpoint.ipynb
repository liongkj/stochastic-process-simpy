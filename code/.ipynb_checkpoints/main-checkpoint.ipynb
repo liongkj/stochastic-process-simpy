{
 "cells": [
  {
   "cell_type": "code",
   "execution_count": 1,
   "id": "incorrect-conservative",
   "metadata": {},
   "outputs": [],
   "source": [
    "from contextlib import contextmanager,redirect_stderr,redirect_stdout\n",
    "from os import devnull\n",
    "\n",
    "@contextmanager\n",
    "def suppress_stdout_stderr():\n",
    "    \"\"\"A context manager that redirects stdout and stderr to devnull\"\"\"\n",
    "    with open(devnull, 'w') as fnull:\n",
    "        with redirect_stderr(fnull) as err, redirect_stdout(fnull) as out:\n",
    "            yield (err, out)\n",
    "\n",
    "import simpy\n",
    "import numpy as np\n",
    "import pandas as pd\n",
    "from numpy import random\n",
    "import math\n",
    "import matplotlib as plt\n",
    "import seaborn as sns\n",
    "from fifo import startSimulation as fifo\n",
    "from helper import print_sim_results\n",
    "\n",
    "from ticket import startSimulation as ticket\n",
    "RANDOM_SEED = 42\n",
    "### problem paramters ####\n",
    "parameters = {\n",
    "    \"order_time_mu\" : 4,\n",
    "    \"order_time_min\" : 1,\n",
    "    \"food_prepare_mu\" : 6,\n",
    "    \"food_prepare_min\" : 1,\n",
    "    \"lamb\" : 2.5\n",
    "}\n",
    "n_kitchen = 2\n",
    "n_counter = 3\n",
    "n_customer = 2000\n",
    "SIM_TIME = 50 * 60\n",
    "\n",
    "\n",
    "column_names = [\"Arrival Time\",\"Current Q Length\",\"Q time\",\"Service Start Time\",\n",
    "                \"Food prepare start\",\"Exit system time\",\"Food Prepare Duration\",\n",
    "                \"Total Wait Time(Queue+Food)\",\"Service Time\",\"Total Time in System\"]"
   ]
  },
  {
   "cell_type": "code",
   "execution_count": 2,
   "id": "canadian-greenhouse",
   "metadata": {
    "scrolled": true
   },
   "outputs": [],
   "source": [
    "with suppress_stdout_stderr():\n",
    "    ticket_results = ticket(n_customer,n_counter,n_kitchen,SIM_TIME,parameters)\n",
    "#     fifo_results = fifo(n_customer,n_counter,n_kitchen,SIM_TIME,parameters) "
   ]
  },
  {
   "cell_type": "code",
   "execution_count": 3,
   "id": "assigned-speaker",
   "metadata": {},
   "outputs": [
    {
     "name": "stdout",
     "output_type": "stream",
     "text": [
      "Ticket\n",
      "\n",
      "1045 Customers served\n",
      "Total Simulation Time=> 3000.00 Minutes\n",
      "Total Idle Time for 3 Counters=> -1389.00 Minutes\n",
      "Average Queue Length=> 368 \n",
      "Max Queue Length=> 719 \n",
      "\n",
      "Average Waiting Time => 1883.07 Minutes\n",
      "Average Service Time => 4.20 Minutes\n",
      "Average Time Spent In System => 1313.57 Minutes\n"
     ]
    }
   ],
   "source": [
    "print(\"Ticket\")\n",
    "print_sim_results(ticket_results,n_kitchen,n_counter)"
   ]
  },
  {
   "cell_type": "code",
   "execution_count": 4,
   "id": "usual-vault",
   "metadata": {
    "jupyter": {
     "source_hidden": true
    }
   },
   "outputs": [],
   "source": [
    "# print(\"Fifo\")\n",
    "# print_sim_results(fifo_results,n_kitchen,n_counter)"
   ]
  },
  {
   "cell_type": "code",
   "execution_count": 69,
   "id": "neutral-institution",
   "metadata": {},
   "outputs": [
    {
     "ename": "ValueError",
     "evalue": "setting an array element with a sequence.",
     "output_type": "error",
     "traceback": [
      "\u001b[0;31m---------------------------------------------------------------------------\u001b[0m",
      "\u001b[0;31mTypeError\u001b[0m                                 Traceback (most recent call last)",
      "\u001b[0;32m~/anaconda3/envs/code/lib/python3.8/site-packages/pandas/core/series.py\u001b[0m in \u001b[0;36mwrapper\u001b[0;34m(self)\u001b[0m\n\u001b[1;32m    138\u001b[0m             \u001b[0;32mreturn\u001b[0m \u001b[0mconverter\u001b[0m\u001b[0;34m(\u001b[0m\u001b[0mself\u001b[0m\u001b[0;34m.\u001b[0m\u001b[0miloc\u001b[0m\u001b[0;34m[\u001b[0m\u001b[0;36m0\u001b[0m\u001b[0;34m]\u001b[0m\u001b[0;34m)\u001b[0m\u001b[0;34m\u001b[0m\u001b[0;34m\u001b[0m\u001b[0m\n\u001b[0;32m--> 139\u001b[0;31m         \u001b[0;32mraise\u001b[0m \u001b[0mTypeError\u001b[0m\u001b[0;34m(\u001b[0m\u001b[0;34mf\"cannot convert the series to {converter}\"\u001b[0m\u001b[0;34m)\u001b[0m\u001b[0;34m\u001b[0m\u001b[0;34m\u001b[0m\u001b[0m\n\u001b[0m\u001b[1;32m    140\u001b[0m \u001b[0;34m\u001b[0m\u001b[0m\n",
      "\u001b[0;31mTypeError\u001b[0m: cannot convert the series to <class 'float'>",
      "\nThe above exception was the direct cause of the following exception:\n",
      "\u001b[0;31mValueError\u001b[0m                                Traceback (most recent call last)",
      "\u001b[0;32m<ipython-input-69-69728a596a61>\u001b[0m in \u001b[0;36m<module>\u001b[0;34m\u001b[0m\n\u001b[1;32m      9\u001b[0m         \u001b[0mfifo_results\u001b[0m \u001b[0;34m=\u001b[0m \u001b[0mfifo\u001b[0m\u001b[0;34m(\u001b[0m\u001b[0mn_customer\u001b[0m\u001b[0;34m,\u001b[0m\u001b[0mn_counter\u001b[0m\u001b[0;34m,\u001b[0m\u001b[0mn_kitchen\u001b[0m\u001b[0;34m,\u001b[0m\u001b[0mSIM_TIME\u001b[0m\u001b[0;34m,\u001b[0m\u001b[0mparameters\u001b[0m\u001b[0;34m)\u001b[0m\u001b[0;34m\u001b[0m\u001b[0;34m\u001b[0m\u001b[0m\n\u001b[1;32m     10\u001b[0m \u001b[0;34m\u001b[0m\u001b[0m\n\u001b[0;32m---> 11\u001b[0;31m         avg_waiting[i] =[ticket_results[0].iloc[:,7],\n\u001b[0m\u001b[1;32m     12\u001b[0m                          fifo_results[0].iloc[:,7]]\n",
      "\u001b[0;31mValueError\u001b[0m: setting an array element with a sequence."
     ]
    }
   ],
   "source": [
    "val_lamb = np.arange(1, 10, 0.05)\n",
    "# ticket_results = []\n",
    "avg_waiting = np.zeros([len(val_lamb),2])\n",
    "\n",
    "with suppress_stdout_stderr():\n",
    "    for i in range(len(val_lamb)):\n",
    "        parameters[\"lamb\"] = val_lamb[i]\n",
    "        ticket_results = ticket(n_customer,n_counter,n_kitchen,SIM_TIME,parameters)\n",
    "        fifo_results = fifo(n_customer,n_counter,n_kitchen,SIM_TIME,parameters) \n",
    "        \n",
    "        avg_waiting[i] =[ticket_results[0].iloc[:,7].mean(),\n",
    "                         fifo_results[0].iloc[:,7].mean()]"
   ]
  },
  {
   "cell_type": "code",
   "execution_count": null,
   "id": "square-korea",
   "metadata": {},
   "outputs": [],
   "source": [
    "# ticket_results[0].iloc[:,2].mean()/SIM_TIME"
   ]
  },
  {
   "cell_type": "code",
   "execution_count": null,
   "id": "straight-consideration",
   "metadata": {},
   "outputs": [],
   "source": [
    "# avg = pd.DataFrame(avg_waiting,index=val_lamb,\n",
    "#                    columns = [\"fifo\",\"ticket\"])\n",
    "sns.displot(avg,kind=\"kde\")"
   ]
  },
  {
   "cell_type": "code",
   "execution_count": null,
   "id": "tested-indonesia",
   "metadata": {
    "jupyter": {
     "source_hidden": true
    }
   },
   "outputs": [],
   "source": []
  }
 ],
 "metadata": {
  "kernelspec": {
   "display_name": "Python 3",
   "language": "python",
   "name": "python3"
  },
  "language_info": {
   "codemirror_mode": {
    "name": "ipython",
    "version": 3
   },
   "file_extension": ".py",
   "mimetype": "text/x-python",
   "name": "python",
   "nbconvert_exporter": "python",
   "pygments_lexer": "ipython3",
   "version": "3.8.5"
  }
 },
 "nbformat": 4,
 "nbformat_minor": 5
}
