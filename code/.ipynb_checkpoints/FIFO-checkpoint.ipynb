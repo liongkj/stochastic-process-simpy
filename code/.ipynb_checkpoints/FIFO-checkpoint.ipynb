{
 "cells": [
  {
   "cell_type": "markdown",
   "metadata": {},
   "source": [
    "Experiment settings"
   ]
  },
  {
   "cell_type": "code",
   "execution_count": 1,
   "metadata": {},
   "outputs": [],
   "source": [
    "import simpy\n",
    "import numpy as np\n",
    "import pandas as pd\n",
    "import random\n",
    "import math\n",
    "RANDOM_SEED = 42\n",
    "### problem paramters ####\n",
    "order_time_max = 3\n",
    "order_time_min = 1\n",
    "food_prepare_min = 2\n",
    "food_prepare_max = 4\n",
    "\n",
    "lamb = 0.4\n",
    "n_kitchen = 3\n",
    "n_counter = 2\n",
    "n_customer = 200\n",
    "SIM_TIME = 12 * 60 #12 hours\n",
    "\n",
    "random.seed(RANDOM_SEED)"
   ]
  },
  {
   "cell_type": "markdown",
   "metadata": {},
   "source": [
    "# helper functions, monitoring and pandas table\n"
   ]
  },
  {
   "cell_type": "code",
   "execution_count": 2,
   "metadata": {
    "collapsed": false,
    "jupyter": {
     "outputs_hidden": false
    },
    "pycharm": {
     "name": "#%%\n"
    }
   },
   "outputs": [],
   "source": [
    "def round_down(n, decimals=1):\n",
    "    multiplier = 10 ** decimals\n",
    "    return abs(math.floor(n*multiplier + 0.5) / multiplier)\n",
    "\n",
    "counter_total_service_times = 0\n",
    "counter_total_idle_times = 0\n",
    "env = simpy.Environment()\n",
    "# ,\"Clock Time\",\"Interarrival Time\",\"Service Time\",\"Wait Time\",\"Queue Length\",\"Total Time In System\"\n",
    "column_names = [\"Arrival Time\",\"Service Start Time\",\"Queue time\",\"Food prepare start\",\"Exit system time\",\"Total Wait Time(Queue+Food)\",\"Service Time\",\"Total Time in System\"]\n",
    "result_fifo = np.zeros((n_customer,len(column_names)))\n",
    "result_tick = np.zeros((n_customer,len(column_names)))\n"
   ]
  },
  {
   "cell_type": "markdown",
   "metadata": {},
   "source": [
    "# Simulation setting\n",
    "## A) FIFO Algorithim"
   ]
  },
  {
   "cell_type": "code",
   "execution_count": 3,
   "metadata": {},
   "outputs": [],
   "source": [
    "class Counter(object):\n",
    "#     Counters to take order\n",
    "    def __init__(self,env,num_counter):\n",
    "        self.env = env\n",
    "        self.counter = simpy.Resource(env,num_counter)\n",
    "        self.counter_waiting = 0\n",
    "        self.service_start = None\n",
    "        \n",
    "    def take_order(self,cus,env,service_start):\n",
    "        print(\"%s is placing order at counter %.2f\" %(cus,service_start))\n",
    "        time_taken_to_place_order = np.random.uniform(order_time_min, order_time_max)\n",
    "        yield self.env.timeout(time_taken_to_place_order)\n",
    "        print(\"Order of %s sent to kitchen at %.2f\" %(cus, env.now))\n",
    "        # Record idle counter and add to total count\n",
    "        \n",
    "        \n",
    "    def receive_order(self,cus,env,resource,service_start):\n",
    "        global counter_total_idle_times\n",
    "        global counter_total_service_times\n",
    "        idle_start = env.now\n",
    "        with resource.kitchen.request() as my_turn:\n",
    "            yield my_turn\n",
    "            yield env.process(resource.prepare_food(cus,env))\n",
    "            service_end = env.now\n",
    "            print(\"%s collected the food at %.2f\" %(cus, service_end))\n",
    "            counter_total_idle_times += (service_end-idle_start)\n",
    "            counter_total_service_times += (service_end-service_start)\n",
    "            \n",
    "\n",
    "class Kitchen(object):\n",
    "    # Kitchen to prepare food\n",
    "    def __init__(self,env,num_kitchen):\n",
    "        self.env = env\n",
    "        self.kitchen = simpy.Resource(env,num_kitchen)\n",
    "    \n",
    "    def prepare_food(self,cus,env):\n",
    "        print(\"Kitchen is preparing food for %s at %.2f\" %(cus, env.now))\n",
    "        food_prepare_time = np.random.uniform(food_prepare_min,food_prepare_max)\n",
    "        yield self.env.timeout(food_prepare_time)\n",
    "        print(\"Cooked food for %s at %.2f\" %(cus, env.now))\n",
    "\n",
    "def customer(env, label, queue, kitchen, data):\n",
    "#     the customer process arrive at the restaurant and request counter to take order\n",
    "    label = label-1\n",
    "    arrive_time = env.now\n",
    "    print(\"%s entering the queue at %.2f\"%(label,arrive_time))\n",
    "#     data[label,0]=label\n",
    "    data[label,0]= round_down(arrive_time)\n",
    "    with queue.counter.request() as my_turn:\n",
    "        yield my_turn\n",
    "        service_start = env.now\n",
    "        data[label,1] = round_down(service_start)\n",
    "        queue_time = service_start - arrive_time\n",
    "        data[label,2]= round_down(queue_time)\n",
    "        # placing order at counter\n",
    "        yield env.process(queue.take_order(label,env,service_start))\n",
    "        # waiting order at counter\n",
    "        prepare_food_start = env.now\n",
    "        data[label,3] = round_down(prepare_food_start)\n",
    "        # counter is idle now\n",
    "        yield env.process(queue.receive_order(label,env,kitchen,service_start))\n",
    "        # prepare_food_end = round_down(env.now)\n",
    "        # counter_total_wait_times += round_down(prepare_food_end - prepare_food_start)\n",
    "        # receive food from counter\n",
    "        exit_time = env.now\n",
    "        data[label,4] = round_down(exit_time)\n",
    "\n",
    "        kitchen_prepare_duration = (exit_time-prepare_food_start)\n",
    "        # total wait time\n",
    "        data[label,5] = round_down(kitchen_prepare_duration+queue_time)\n",
    "        # total service time\n",
    "        data[label,6] = round_down(exit_time-service_start)\n",
    "        # total time in system\n",
    "        data[label,7] = round_down(exit_time-arrive_time)\n",
    "        yield env.timeout(1)"
   ]
  },
  {
   "cell_type": "markdown",
   "metadata": {},
   "source": [
    "## Start FIFO Simulation"
   ]
  },
  {
   "cell_type": "code",
   "execution_count": 4,
   "metadata": {
    "scrolled": true,
    "tags": [
     "outputPrepend"
    ]
   },
   "outputs": [
    {
     "name": "stdout",
     "output_type": "stream",
     "text": [
      "0 entering the queue at 2.55\n",
      "0 is placing order at counter 2.55\n",
      "1 entering the queue at 2.61\n",
      "1 is placing order at counter 2.61\n",
      "2 entering the queue at 3.42\n",
      "3 entering the queue at 4.05\n",
      "Order of 0 sent to kitchen at 4.60\n"
     ]
    },
    {
     "ename": "TypeError",
     "evalue": "receive_order() missing 1 required positional argument: 'service_start'",
     "output_type": "error",
     "traceback": [
      "\u001b[0;31m---------------------------------------------------------------------------\u001b[0m\n\u001b[0;31mTypeError\u001b[0m                                 Traceback (most recent call last)",
      "In  \u001b[0;34m[4]\u001b[0m:\nLine \u001b[0;34m11\u001b[0m:    env.run(until=SIM_TIME)\n",
      "File \u001b[0;34m/home/liongkj/anaconda3/envs/code/lib/python3.8/site-packages/simpy/core.py\u001b[0m, in \u001b[0;32mrun\u001b[0m:\nLine \u001b[0;34m254\u001b[0m:   \u001b[36mself\u001b[39;49;00m.step()\n",
      "File \u001b[0;34m/home/liongkj/anaconda3/envs/code/lib/python3.8/site-packages/simpy/core.py\u001b[0m, in \u001b[0;32mstep\u001b[0m:\nLine \u001b[0;34m206\u001b[0m:   \u001b[34mraise\u001b[39;49;00m exc\n",
      "\u001b[0;31mTypeError\u001b[0m: receive_order() missing 1 required positional argument: 'service_start'\n\u001b[0;31m---------------------------------------------------------------------------\u001b[0m"
     ]
    }
   ],
   "source": [
    "counter = Counter(env,n_counter)\n",
    "kitchen = Kitchen(env,n_kitchen)\n",
    "# Simlating possion process for customer arrival\n",
    "def customer_arrivals(env,res_counter):\n",
    "    \"\"\"Create new *customer* until the sim time reaches 120. with poisson process\"\"\"\n",
    "    for i in range(n_customer):\n",
    "        yield env.timeout(random.expovariate(lamb))\n",
    "        env.process(customer(env, i+1, res_counter, kitchen, result_fifo))\n",
    "\n",
    "env.process(customer_arrivals(env,counter))\n",
    "env.run(until=SIM_TIME)"
   ]
  },
  {
   "cell_type": "markdown",
   "metadata": {},
   "source": [
    "## FIFO Result & Analysis"
   ]
  },
  {
   "cell_type": "code",
   "execution_count": null,
   "metadata": {},
   "outputs": [],
   "source": [
    "# Converting to pandas\n",
    "np_arr = np.array(result_fifo).reshape(n_customer,-1)\n",
    "labels = [*range(1,n_customer+1)]\n",
    "df_fifo=pd.DataFrame(data = np_arr,index=labels,columns=column_names)\n",
    "# df_fifo\n",
    "df_fifo=df_fifo.loc[~(df_fifo==0).all(axis=1)]\n",
    "df_fifo=df_fifo.loc[~(df_fifo==0).all(axis=1)]\n",
    "total_wait_time = df_fifo.iloc[:,5].sum()\n",
    "total_service_time = df_fifo.iloc[:,6].sum()\n",
    "\n",
    "total_time_in_system = df_fifo.iloc[:,7].sum()\n",
    "print(\"\")"
   ]
  },
  {
   "cell_type": "code",
   "execution_count": null,
   "metadata": {},
   "outputs": [],
   "source": [
    "df_fifo.iloc[1:30,:]\n"
   ]
  },
  {
   "cell_type": "code",
   "execution_count": null,
   "metadata": {},
   "outputs": [],
   "source": [
    "n_served = df_fifo.shape[0]\n",
    "\n",
    "def display(i):\n",
    "    print()\n",
    "    print(\"%d Customers served\"%n_served)\n",
    "    print(\"Total Simulation Time=> %.2f Minutes\" % SIM_TIME)\n",
    "    print(\"Counter Total Idle Time => %.2f Minutes\" % (counter_total_idle_times))\n",
    "    print()\n",
    "    print(\"Average Waiting Time => %.2f Minutes\" % (total_wait_time / i))\n",
    "    print(\"Average Service Time => %.2f Minutes\" % (total_service_time / i))\n",
    "    print(\"Average Time Spent In System => %.2f Minutes\" % (total_time_in_system / i))\n",
    "\n",
    "display(n_served)"
   ]
  },
  {
   "cell_type": "code",
   "execution_count": null,
   "metadata": {},
   "outputs": [],
   "source": []
  },
  {
   "cell_type": "code",
   "execution_count": null,
   "metadata": {},
   "outputs": [],
   "source": []
  }
 ],
 "metadata": {
  "kernelspec": {
   "display_name": "Python 3.8 (XPython)",
   "language": "python",
   "name": "xpython"
  },
  "language_info": {
   "file_extension": ".py",
   "mimetype": "text/x-python",
   "name": "python",
   "version": "3.8.6"
  }
 },
 "nbformat": 4,
 "nbformat_minor": 4
}
