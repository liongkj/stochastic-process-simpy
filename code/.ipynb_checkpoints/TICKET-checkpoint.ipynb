{
 "cells": [
  {
   "cell_type": "markdown",
   "metadata": {},
   "source": [
    "Experiment settings"
   ]
  },
  {
   "cell_type": "code",
   "execution_count": 1,
   "metadata": {},
   "outputs": [],
   "source": [
    "import simpy\n",
    "import numpy as np\n",
    "import pandas as pd\n",
    "import random\n",
    "import math\n",
    "RANDOM_SEED = 42\n",
    "### problem paramters ####\n",
    "order_time_max = 3\n",
    "order_time_min = 1\n",
    "food_prepare_min = 2\n",
    "food_prepare_max = 4\n",
    "\n",
    "\n",
    "lamb = 0.4\n",
    "n_kitchen = 3\n",
    "n_counter = 2\n",
    "n_customer = 200\n",
    "SIM_TIME = 12 * 60 #12 hours\n",
    "\n",
    "random.seed(RANDOM_SEED)"
   ]
  },
  {
   "cell_type": "markdown",
   "metadata": {},
   "source": [
    "# helper functions, monitoring and pandas table\n"
   ]
  },
  {
   "cell_type": "code",
   "execution_count": 2,
   "metadata": {
    "collapsed": false,
    "jupyter": {
     "outputs_hidden": false
    },
    "pycharm": {
     "name": "#%%\n"
    }
   },
   "outputs": [],
   "source": [
    "def round_down(n, decimals=1):\n",
    "    multiplier = 10 ** decimals\n",
    "    return abs(math.floor(n*multiplier + 0.5) / multiplier)\n",
    "\n",
    "counter_total_service_times = 0\n",
    "counter_total_idle_times = 0\n",
    "env = simpy.Environment()\n",
    "# ,\"Clock Time\",\"Interarrival Time\",\"Service Time\",\"Wait Time\",\"Queue Length\",\"Total Time In System\"\n",
    "column_names = [\"Arrival Time\",\"Service Start Time\",\"Queue time\",\"Food prepare start\",\"Exit system time\",\"Total Wait Time (Queue+Food)\",\"Service Time\",\"Total Time in System\"]\n",
    "result_fifo = np.zeros((n_customer,len(column_names)))\n",
    "result_tick = np.zeros((n_customer,len(column_names)))\n"
   ]
  },
  {
   "cell_type": "markdown",
   "metadata": {},
   "source": [
    "# Simulation setting\n",
    "## A) Ticket Algorithim"
   ]
  },
  {
   "cell_type": "code",
   "execution_count": 3,
   "metadata": {},
   "outputs": [],
   "source": [
    "class Counter(object):\n",
    "#     Counters to take order\n",
    "    def __init__(self,env,num_counter):\n",
    "        self.env = env\n",
    "        self.counter = simpy.Resource(env,num_counter)\n",
    "        self.counter_waiting = 0\n",
    "        \n",
    "    def take_order(self,cus,env, service_start):\n",
    "        global counter_total_service_times\n",
    "\n",
    "        print(\"%s is placing order at counter %.2f\" %(cus,service_start))\n",
    "        time_taken_to_place_order = np.random.uniform(order_time_min, order_time_max)\n",
    "        yield self.env.timeout(time_taken_to_place_order)\n",
    "        service_end = env.now\n",
    "        print(\"Order of %s sent to kitchen at %.2f\" %(cus, service_end))\n",
    "        counter_total_service_times += (service_end-service_start)\n",
    "\n",
    "    def receive_order(self,cus,env,kitchen):\n",
    "        \n",
    "        with kitchen.kitchen.request() as my_turn:\n",
    "            yield my_turn\n",
    "            yield env.process(kitchen.prepare_food(cus,env))\n",
    "            food_end = env.now\n",
    "            print(\"%s collected the food at %.2f\" %(cus, food_end))\n",
    "            # Record idle counter and add to total count\n",
    "           \n",
    "\n",
    "class Kitchen(object):\n",
    "    # Kitchen to prepare food\n",
    "    def __init__(self,env,num_kitchen):\n",
    "        self.env = env\n",
    "        self.kitchen = simpy.Resource(env,num_kitchen)\n",
    "    \n",
    "    def prepare_food(self,cus,env):\n",
    "        print(\"Kitchen is preparing food for %s at %.2f\" %(cus, env.now))\n",
    "        food_prepare_time = np.random.uniform(food_prepare_min,food_prepare_max)\n",
    "        yield self.env.timeout(food_prepare_time)\n",
    "        print(\"Cooked food for %s at %.2f\" %(cus, env.now))\n",
    "\n",
    "def customer(env, label, queue, kitchen, data):\n",
    "#     the customer process arrive at the restaurant and request counter to take order\n",
    "    label = label-1\n",
    "    arrive_time = env.now\n",
    "    print(\"%s entering the queue at %.2f\"%(label,arrive_time))\n",
    "#     data[label,0]=label\n",
    "    data[label,0]= round_down(arrive_time)\n",
    "    with queue.counter.request() as my_turn:\n",
    "        yield my_turn\n",
    "        service_start = env.now\n",
    "        data[label,1] = round_down(service_start)\n",
    "        queue_time = service_start - arrive_time\n",
    "        data[label,2]= round_down(queue_time)\n",
    "        # placing order at counter\n",
    "        yield env.process(queue.take_order(label,env,service_start))\n",
    "        # waiting order at counter\n",
    "        prepare_food_start = env.now\n",
    "        data[label,3] = round_down(prepare_food_start)\n",
    "        yield env.timeout(1)\n",
    "    yield env.process(queue.receive_order(label,env,kitchen))\n",
    "    # prepare_food_end = round_down(env.now)\n",
    "    # counter_total_wait_times += round_down(prepare_food_end - prepare_food_start)\n",
    "    # receive food from counter\n",
    "    exit_time = env.now\n",
    "    data[label,4] = round_down(exit_time)\n",
    "\n",
    "    kitchen_prepare_duration = (exit_time-data[label,3])\n",
    "    # total wait time\n",
    "    data[label,5] = round_down(kitchen_prepare_duration+data[label,2])\n",
    "    # total service timeLIO\n",
    "    data[label,6] = round_down(exit_time-service_start)\n",
    "    # total time in system\n",
    "    data[label,7] = round_down(exit_time-arrive_time)\n"
   ]
  },
  {
   "cell_type": "markdown",
   "metadata": {},
   "source": [
    "## Start Ticket Simulation"
   ]
  },
  {
   "cell_type": "code",
   "execution_count": 4,
   "metadata": {
    "scrolled": true,
    "tags": [
     "outputPrepend"
    ]
   },
   "outputs": [
    {
     "name": "stdout",
     "output_type": "stream",
     "text": [
      "0 entering the queue at 2.55\n"
     ]
    },
    {
     "ename": "AttributeError",
     "evalue": "'Counter' object has no attribute 'service_start'",
     "output_type": "error",
     "traceback": [
      "\u001b[0;31m---------------------------------------------------------------------------\u001b[0m",
      "\u001b[0;31mAttributeError\u001b[0m                            Traceback (most recent call last)",
      "\u001b[0;32m<ipython-input-3-8ac6fd4dc2eb>\u001b[0m in \u001b[0;36mtake_order\u001b[0;34m(self, cus, env, service_start)\u001b[0m\n\u001b[1;32m     10\u001b[0m \u001b[0;34m\u001b[0m\u001b[0m\n\u001b[0;32m---> 11\u001b[0;31m         \u001b[0mprint\u001b[0m\u001b[0;34m(\u001b[0m\u001b[0;34m\"%s is placing order at counter %.2f\"\u001b[0m \u001b[0;34m%\u001b[0m\u001b[0;34m(\u001b[0m\u001b[0mcus\u001b[0m\u001b[0;34m,\u001b[0m\u001b[0mself\u001b[0m\u001b[0;34m.\u001b[0m\u001b[0mservice_start\u001b[0m\u001b[0;34m)\u001b[0m\u001b[0;34m)\u001b[0m\u001b[0;34m\u001b[0m\u001b[0;34m\u001b[0m\u001b[0m\n\u001b[0m\u001b[1;32m     12\u001b[0m         \u001b[0mtime_taken_to_place_order\u001b[0m \u001b[0;34m=\u001b[0m \u001b[0mnp\u001b[0m\u001b[0;34m.\u001b[0m\u001b[0mrandom\u001b[0m\u001b[0;34m.\u001b[0m\u001b[0muniform\u001b[0m\u001b[0;34m(\u001b[0m\u001b[0morder_time_min\u001b[0m\u001b[0;34m,\u001b[0m \u001b[0morder_time_max\u001b[0m\u001b[0;34m)\u001b[0m\u001b[0;34m\u001b[0m\u001b[0;34m\u001b[0m\u001b[0m\n",
      "\u001b[0;31mAttributeError\u001b[0m: 'Counter' object has no attribute 'service_start'",
      "\nThe above exception was the direct cause of the following exception:\n",
      "\u001b[0;31mAttributeError\u001b[0m                            Traceback (most recent call last)",
      "\u001b[0;32m<ipython-input-3-8ac6fd4dc2eb>\u001b[0m in \u001b[0;36mcustomer\u001b[0;34m(env, label, queue, kitchen, data)\u001b[0m\n\u001b[1;32m     53\u001b[0m         \u001b[0;31m# placing order at counter\u001b[0m\u001b[0;34m\u001b[0m\u001b[0;34m\u001b[0m\u001b[0;34m\u001b[0m\u001b[0m\n\u001b[0;32m---> 54\u001b[0;31m         \u001b[0;32myield\u001b[0m \u001b[0menv\u001b[0m\u001b[0;34m.\u001b[0m\u001b[0mprocess\u001b[0m\u001b[0;34m(\u001b[0m\u001b[0mqueue\u001b[0m\u001b[0;34m.\u001b[0m\u001b[0mtake_order\u001b[0m\u001b[0;34m(\u001b[0m\u001b[0mlabel\u001b[0m\u001b[0;34m,\u001b[0m\u001b[0menv\u001b[0m\u001b[0;34m,\u001b[0m\u001b[0mservice_start\u001b[0m\u001b[0;34m)\u001b[0m\u001b[0;34m)\u001b[0m\u001b[0;34m\u001b[0m\u001b[0;34m\u001b[0m\u001b[0m\n\u001b[0m\u001b[1;32m     55\u001b[0m         \u001b[0;31m# waiting order at counter\u001b[0m\u001b[0;34m\u001b[0m\u001b[0;34m\u001b[0m\u001b[0;34m\u001b[0m\u001b[0m\n",
      "\u001b[0;31mAttributeError\u001b[0m: 'Counter' object has no attribute 'service_start'",
      "\nThe above exception was the direct cause of the following exception:\n",
      "\u001b[0;31mAttributeError\u001b[0m                            Traceback (most recent call last)",
      "\u001b[0;32m<ipython-input-4-277bf4496f58>\u001b[0m in \u001b[0;36m<module>\u001b[0;34m\u001b[0m\n\u001b[1;32m      9\u001b[0m \u001b[0;34m\u001b[0m\u001b[0m\n\u001b[1;32m     10\u001b[0m \u001b[0menv\u001b[0m\u001b[0;34m.\u001b[0m\u001b[0mprocess\u001b[0m\u001b[0;34m(\u001b[0m\u001b[0mcustomer_arrivals\u001b[0m\u001b[0;34m(\u001b[0m\u001b[0menv\u001b[0m\u001b[0;34m,\u001b[0m \u001b[0mn_counter\u001b[0m\u001b[0;34m,\u001b[0m\u001b[0mn_kitchen\u001b[0m\u001b[0;34m)\u001b[0m\u001b[0;34m)\u001b[0m\u001b[0;34m\u001b[0m\u001b[0;34m\u001b[0m\u001b[0m\n\u001b[0;32m---> 11\u001b[0;31m \u001b[0menv\u001b[0m\u001b[0;34m.\u001b[0m\u001b[0mrun\u001b[0m\u001b[0;34m(\u001b[0m\u001b[0muntil\u001b[0m\u001b[0;34m=\u001b[0m\u001b[0mSIM_TIME\u001b[0m\u001b[0;34m)\u001b[0m\u001b[0;34m\u001b[0m\u001b[0;34m\u001b[0m\u001b[0m\n\u001b[0m",
      "\u001b[0;32m~/anaconda3/envs/code/lib/python3.8/site-packages/simpy/core.py\u001b[0m in \u001b[0;36mrun\u001b[0;34m(self, until)\u001b[0m\n\u001b[1;32m    252\u001b[0m         \u001b[0;32mtry\u001b[0m\u001b[0;34m:\u001b[0m\u001b[0;34m\u001b[0m\u001b[0;34m\u001b[0m\u001b[0m\n\u001b[1;32m    253\u001b[0m             \u001b[0;32mwhile\u001b[0m \u001b[0;32mTrue\u001b[0m\u001b[0;34m:\u001b[0m\u001b[0;34m\u001b[0m\u001b[0;34m\u001b[0m\u001b[0m\n\u001b[0;32m--> 254\u001b[0;31m                 \u001b[0mself\u001b[0m\u001b[0;34m.\u001b[0m\u001b[0mstep\u001b[0m\u001b[0;34m(\u001b[0m\u001b[0;34m)\u001b[0m\u001b[0;34m\u001b[0m\u001b[0;34m\u001b[0m\u001b[0m\n\u001b[0m\u001b[1;32m    255\u001b[0m         \u001b[0;32mexcept\u001b[0m \u001b[0mStopSimulation\u001b[0m \u001b[0;32mas\u001b[0m \u001b[0mexc\u001b[0m\u001b[0;34m:\u001b[0m\u001b[0;34m\u001b[0m\u001b[0;34m\u001b[0m\u001b[0m\n\u001b[1;32m    256\u001b[0m             \u001b[0;32mreturn\u001b[0m \u001b[0mexc\u001b[0m\u001b[0;34m.\u001b[0m\u001b[0margs\u001b[0m\u001b[0;34m[\u001b[0m\u001b[0;36m0\u001b[0m\u001b[0;34m]\u001b[0m  \u001b[0;31m# == until.value\u001b[0m\u001b[0;34m\u001b[0m\u001b[0;34m\u001b[0m\u001b[0m\n",
      "\u001b[0;32m~/anaconda3/envs/code/lib/python3.8/site-packages/simpy/core.py\u001b[0m in \u001b[0;36mstep\u001b[0;34m(self)\u001b[0m\n\u001b[1;32m    204\u001b[0m             \u001b[0mexc\u001b[0m \u001b[0;34m=\u001b[0m \u001b[0mtype\u001b[0m\u001b[0;34m(\u001b[0m\u001b[0mevent\u001b[0m\u001b[0;34m.\u001b[0m\u001b[0m_value\u001b[0m\u001b[0;34m)\u001b[0m\u001b[0;34m(\u001b[0m\u001b[0;34m*\u001b[0m\u001b[0mevent\u001b[0m\u001b[0;34m.\u001b[0m\u001b[0m_value\u001b[0m\u001b[0;34m.\u001b[0m\u001b[0margs\u001b[0m\u001b[0;34m)\u001b[0m\u001b[0;34m\u001b[0m\u001b[0;34m\u001b[0m\u001b[0m\n\u001b[1;32m    205\u001b[0m             \u001b[0mexc\u001b[0m\u001b[0;34m.\u001b[0m\u001b[0m__cause__\u001b[0m \u001b[0;34m=\u001b[0m \u001b[0mevent\u001b[0m\u001b[0;34m.\u001b[0m\u001b[0m_value\u001b[0m\u001b[0;34m\u001b[0m\u001b[0;34m\u001b[0m\u001b[0m\n\u001b[0;32m--> 206\u001b[0;31m             \u001b[0;32mraise\u001b[0m \u001b[0mexc\u001b[0m\u001b[0;34m\u001b[0m\u001b[0;34m\u001b[0m\u001b[0m\n\u001b[0m\u001b[1;32m    207\u001b[0m \u001b[0;34m\u001b[0m\u001b[0m\n\u001b[1;32m    208\u001b[0m     def run(\n",
      "\u001b[0;31mAttributeError\u001b[0m: 'Counter' object has no attribute 'service_start'"
     ]
    }
   ],
   "source": [
    "# Simlating possion process for customer arrival\n",
    "def customer_arrivals(env, num_counter,num_kitchen):\n",
    "    \"\"\"Create new *customer* until the sim time reaches 120. with poisson process\"\"\"\n",
    "    counter = Counter(env,num_counter)\n",
    "    kitchen = Kitchen(env,num_kitchen)\n",
    "    for i in range(n_customer):\n",
    "        yield env.timeout(random.expovariate(lamb))\n",
    "        env.process(customer(env, i+1, counter, kitchen, result_fifo))\n",
    "\n",
    "env.process(customer_arrivals(env, n_counter,n_kitchen))\n",
    "env.run(until=SIM_TIME)"
   ]
  },
  {
   "cell_type": "markdown",
   "metadata": {},
   "source": [
    "## ticket Result & Analysis"
   ]
  },
  {
   "cell_type": "code",
   "execution_count": null,
   "metadata": {},
   "outputs": [],
   "source": [
    "# Converting to pandas\n",
    "np_arr = np.array(result_fifo).reshape(n_customer,-1)\n",
    "labels = [*range(1,n_customer+1)]\n",
    "df_fifo=pd.DataFrame(data = np_arr,index=labels,columns=column_names)\n",
    "# df_fifo\n",
    "df_fifo=df_fifo.loc[~(df_fifo==0).all(axis=1)]\n",
    "total_wait_time = df_fifo.iloc[:,5].sum()\n",
    "total_service_time = df_fifo.iloc[:,6].sum()\n",
    "\n",
    "total_time_in_system = df_fifo.iloc[:,7].sum()\n",
    "print(\"\")"
   ]
  },
  {
   "cell_type": "code",
   "execution_count": null,
   "metadata": {},
   "outputs": [],
   "source": [
    "df_fifo.iloc[1:30,:]"
   ]
  },
  {
   "cell_type": "code",
   "execution_count": null,
   "metadata": {},
   "outputs": [],
   "source": [
    "n_served = df_fifo.shape[0]\n",
    "\n",
    "def display(i):\n",
    "    print()\n",
    "    print(\"%d Customers served\"%n_served)\n",
    "    print(\"Total Simulation Time=> %.2f Minutes\" % SIM_TIME)\n",
    "    print(\"Counter Total Idle Time => %.2f Minutes\" % (SIM_TIME - counter_total_service_times))\n",
    "    print()\n",
    "    print(\"Average Waiting Time => %.2f Minutes\" % (total_wait_time / i))\n",
    "    print(\"Average Service Time => %.2f Minutes\" % (total_service_time / i))\n",
    "    print(\"Average Time Spent In System => %.2f Minutes\" % (total_time_in_system / i))\n",
    "\n",
    "display(n_served)"
   ]
  },
  {
   "cell_type": "code",
   "execution_count": null,
   "metadata": {},
   "outputs": [],
   "source": []
  }
 ],
 "metadata": {
  "kernelspec": {
   "display_name": "PyCharm (code)",
   "language": "python",
   "name": "pycharm-34c40bc0"
  },
  "language_info": {
   "codemirror_mode": {
    "name": "ipython",
    "version": 3
   },
   "file_extension": ".py",
   "mimetype": "text/x-python",
   "name": "python",
   "nbconvert_exporter": "python",
   "pygments_lexer": "ipython3",
   "version": "3.8.5"
  }
 },
 "nbformat": 4,
 "nbformat_minor": 4
}
