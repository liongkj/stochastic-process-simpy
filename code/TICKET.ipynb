{
 "cells": [
  {
   "source": [
    "Experiment settings"
   ],
   "cell_type": "markdown",
   "metadata": {}
  },
  {
   "cell_type": "code",
   "execution_count": 1,
   "metadata": {},
   "outputs": [],
   "source": [
    "import simpy\n",
    "import numpy as np\n",
    "import pandas as pd\n",
    "import random\n",
    "import math\n",
    "RANDOM_SEED = 42\n",
    "### problem paramters ####\n",
    "order_time_max = 5\n",
    "order_time_min = 1\n",
    "food_prepare_min = 2\n",
    "food_prepare_max = 6\n",
    "\n",
    "n_kitchen = 2\n",
    "n_counter = 2\n",
    "n_customer = 20\n",
    "SIM_TIME = 12 * 60 #12 hours\n",
    "\n",
    "random.seed(RANDOM_SEED)"
   ]
  },
  {
   "source": [
    "# helper functions, monitoring and pandas table\n"
   ],
   "cell_type": "markdown",
   "metadata": {}
  },
  {
   "cell_type": "code",
   "execution_count": 2,
   "metadata": {
    "collapsed": false,
    "jupyter": {
     "outputs_hidden": false
    },
    "pycharm": {
     "name": "#%%\n"
    }
   },
   "outputs": [],
   "source": [
    "def round_down(n, decimals=1):\n",
    "    multiplier = 10 ** decimals\n",
    "    return abs(math.floor(n*multiplier + 0.5) / multiplier)\n",
    "\n",
    "counter_total_wait_times = 0\n",
    "env = simpy.Environment()\n",
    "# ,\"Clock Time\",\"Interarrival Time\",\"Service Time\",\"Wait Time\",\"Queue Length\",\"Total Time In System\"\n",
    "column_names = [\"Arrival Time\",\"Service Start Time\",\"Queue time\",\"Exit Time\",\"Total Wait Time\",\"Total Service Time\",\"Total Time in System\"]\n",
    "result_fifo = np.zeros((n_customer,len(column_names)))\n",
    "result_tick = np.zeros((n_customer,len(column_names)))\n"
   ]
  },
  {
   "source": [
    "# Simulation setting\n",
    "## A) FIFO Algorithim"
   ],
   "cell_type": "markdown",
   "metadata": {}
  },
  {
   "cell_type": "code",
   "execution_count": 3,
   "metadata": {},
   "outputs": [],
   "source": [
    "class Counter(object):\n",
    "#     Counters to take order\n",
    "    def __init__(self,env,num_counter):\n",
    "        self.env = env\n",
    "        self.counter = simpy.Resource(env,num_counter)\n",
    "        self.counter_waiting = 0\n",
    "        self.service_start = None\n",
    "        \n",
    "    def take_order(self,cus,env):\n",
    "        self.service_start = env.now\n",
    "        print(\"%s is placing order at counter %.2f\" %(cus,self.service_start))\n",
    "        time_taken_to_place_order = np.random.uniform(order_time_min, order_time_max)\n",
    "        yield self.env.timeout(time_taken_to_place_order)\n",
    "        print(\"Order of %s sent to kitchen at %.2f\" %(cus, env.now))\n",
    "        # yield env.process(tank_truck(env, fuel_pump))\n",
    "\n",
    "    def receive_order(self,cus,env,resource):\n",
    "        global counter_total_wait_times\n",
    "\n",
    "        with resource.kitchen.request() as my_turn:\n",
    "            yield my_turn\n",
    "            yield env.process(resource.prepare_food(cus,env))\n",
    "            service_end = env.now\n",
    "            print(\"%s collected the food at %.2f\" %(cus, service_end))\n",
    "            # Record idle counter and add to total count\n",
    "            counter_total_wait_times += (service_end-self.service_start)\n",
    "\n",
    "class Kitchen(object):\n",
    "    # Kitchen to prepare food\n",
    "    def __init__(self,env,num_kitchen):\n",
    "        self.env = env\n",
    "        self.kitchen = simpy.Resource(env,num_kitchen)\n",
    "    \n",
    "    def prepare_food(self,cus,env):\n",
    "        print(\"Kitchen is preparing food for %s at %.2f\" %(cus, env.now))\n",
    "        food_prepare_time = np.random.uniform(food_prepare_min,food_prepare_max)\n",
    "        yield self.env.timeout(food_prepare_time)\n",
    "        print(\"Cooked food for %s at %.2f\" %(cus, env.now))\n",
    "\n",
    "def customer(env, label, queue, kitchen, data):\n",
    "#     the customer process arrive at the restaurant and request counter to take order\n",
    "    label = label-1\n",
    "    arrive_time = env.now\n",
    "    print(\"%s entering the queue at %.2f\"%(label,arrive_time))\n",
    "#     data[label,0]=label\n",
    "    data[label,0]= round_down(arrive_time)\n",
    "    with queue.counter.request() as my_turn:\n",
    "        yield my_turn\n",
    "        service_start = env.now\n",
    "        data[label,1] = round_down(service_start)\n",
    "        queue_time = service_start - arrive_time\n",
    "        data[label,2]= round_down(queue_time)\n",
    "        # placing order at counter\n",
    "        yield env.process(queue.take_order(label,env))\n",
    "        # waiting order at counter\n",
    "        prepare_food_start = env.now\n",
    "        # counter is idle now\n",
    "        yield env.process(queue.receive_order(label,env,kitchen))\n",
    "        # prepare_food_end = round_down(env.now)\n",
    "        # counter_total_wait_times += round_down(prepare_food_end - prepare_food_start)\n",
    "        # receive food from counter\n",
    "        prepare_food_end = env.now\n",
    "        data[label,3] = round_down(prepare_food_end)\n",
    "\n",
    "        kitchen_prepare_duration = (prepare_food_end-prepare_food_start)\n",
    "        # total wait time\n",
    "        data[label,4] = round_down(kitchen_prepare_duration+queue_time)\n",
    "        # total service time\n",
    "        data[label,5] = round_down(prepare_food_end-service_start)\n",
    "        # total time in system\n",
    "        data[label,6] = round_down(prepare_food_end-arrive_time)\n"
   ]
  },
  {
   "source": [
    "## Start FIFO Simulation"
   ],
   "cell_type": "markdown",
   "metadata": {}
  },
  {
   "cell_type": "code",
   "execution_count": 5,
   "metadata": {
    "scrolled": true
   },
   "outputs": [
    {
     "output_type": "stream",
     "name": "stdout",
     "text": [
      "0 entering the queue at 5.10\n0 is placing order at counter 5.10\n1 entering the queue at 5.23\n1 is placing order at counter 5.23\n2 entering the queue at 6.84\nOrder of 1 sent to kitchen at 7.67\nKitchen is preparing food for 1 at 7.67\nOrder of 0 sent to kitchen at 8.05\nKitchen is preparing food for 0 at 8.05\n3 entering the queue at 8.10\nCooked food for 1 at 10.52\n1 collected the food at 10.52\n2 is placing order at counter 10.52\nCooked food for 0 at 12.23\n0 collected the food at 12.23\n3 is placing order at counter 12.23\n4 entering the queue at 14.77\nOrder of 2 sent to kitchen at 15.33\nKitchen is preparing food for 2 at 15.33\nOrder of 3 sent to kitchen at 16.46\nKitchen is preparing food for 3 at 16.46\nCooked food for 2 at 17.63\n2 collected the food at 17.63\n4 is placing order at counter 17.63\nOrder of 4 sent to kitchen at 19.66\nKitchen is preparing food for 4 at 19.66\nCooked food for 3 at 20.33\n3 collected the food at 20.33\n5 entering the queue at 20.41\n5 is placing order at counter 20.41\nCooked food for 4 at 21.96\n4 collected the food at 21.96\nOrder of 5 sent to kitchen at 24.90\nKitchen is preparing food for 5 at 24.90\nCooked food for 5 at 29.61\n5 collected the food at 29.61\n6 entering the queue at 31.55\n6 is placing order at counter 31.55\n7 entering the queue at 32.00\n7 is placing order at counter 32.00\nOrder of 6 sent to kitchen at 33.32\nKitchen is preparing food for 6 at 33.32\nOrder of 7 sent to kitchen at 34.46\nKitchen is preparing food for 7 at 34.46\n8 entering the queue at 34.74\n9 entering the queue at 34.89\nCooked food for 6 at 35.38\n6 collected the food at 35.38\n8 is placing order at counter 35.38\n10 entering the queue at 36.13\nCooked food for 7 at 36.73\n7 collected the food at 36.73\n9 is placing order at counter 36.73\nOrder of 9 sent to kitchen at 39.08\nKitchen is preparing food for 9 at 39.08\nOrder of 8 sent to kitchen at 39.62\nKitchen is preparing food for 8 at 39.62\n11 entering the queue at 39.65\n12 entering the queue at 39.78\n13 entering the queue at 40.89\nCooked food for 9 at 43.08\n9 collected the food at 43.08\n10 is placing order at counter 43.08\nCooked food for 8 at 44.92\n8 collected the food at 44.92\n11 is placing order at counter 44.92\n14 entering the queue at 46.14\nOrder of 11 sent to kitchen at 46.21\nKitchen is preparing food for 11 at 46.21\nOrder of 10 sent to kitchen at 47.93\nKitchen is preparing food for 10 at 47.93\n15 entering the queue at 50.07\nCooked food for 11 at 50.70\n11 collected the food at 50.70\n12 is placing order at counter 50.70\n16 entering the queue at 51.32\nCooked food for 10 at 51.35\n10 collected the food at 51.35\n13 is placing order at counter 51.35\nOrder of 12 sent to kitchen at 54.54\nKitchen is preparing food for 12 at 54.54\nOrder of 13 sent to kitchen at 54.98\nKitchen is preparing food for 13 at 54.98\n17 entering the queue at 55.77\nCooked food for 12 at 59.18\n12 collected the food at 59.18\n14 is placing order at counter 59.18\nCooked food for 13 at 59.64\n13 collected the food at 59.64\n15 is placing order at counter 59.64\nOrder of 14 sent to kitchen at 61.80\nKitchen is preparing food for 14 at 61.80\nOrder of 15 sent to kitchen at 63.32\nKitchen is preparing food for 15 at 63.32\n18 entering the queue at 64.06\n19 entering the queue at 64.09\nCooked food for 14 at 64.94\n14 collected the food at 64.94\n16 is placing order at counter 64.94\nCooked food for 15 at 65.92\n15 collected the food at 65.92\n17 is placing order at counter 65.92\nOrder of 16 sent to kitchen at 68.38\nKitchen is preparing food for 16 at 68.38\nOrder of 17 sent to kitchen at 69.20\nKitchen is preparing food for 17 at 69.20\nCooked food for 16 at 71.35\n16 collected the food at 71.35\n18 is placing order at counter 71.35\nCooked food for 17 at 73.78\n17 collected the food at 73.78\n19 is placing order at counter 73.78\nOrder of 18 sent to kitchen at 74.47\nKitchen is preparing food for 18 at 74.47\nOrder of 19 sent to kitchen at 75.91\nKitchen is preparing food for 19 at 75.91\nCooked food for 18 at 78.07\n18 collected the food at 78.07\nCooked food for 19 at 80.38\n19 collected the food at 80.38\n"
     ]
    }
   ],
   "source": [
    "# Simlating possion process for customer arrival\n",
    "def customer_arrivals(env, num_counter,num_kitchen):\n",
    "    \"\"\"Create new *customer* until the sim time reaches 120. with poisson process\"\"\"\n",
    "    counter = Counter(env,num_counter)\n",
    "    kitchen = Kitchen(env,num_kitchen)\n",
    "    for i in range(n_customer):\n",
    "        yield env.timeout(random.expovariate(1 / 5))\n",
    "        env.process(customer(env, i+1, counter, kitchen, result_fifo))\n",
    "\n",
    "env.process(customer_arrivals(env, n_counter,n_kitchen))\n",
    "env.run(until=SIM_TIME)"
   ]
  },
  {
   "source": [
    "## FIFO Result & Analysis"
   ],
   "cell_type": "markdown",
   "metadata": {}
  },
  {
   "cell_type": "code",
   "execution_count": 14,
   "metadata": {},
   "outputs": [
    {
     "output_type": "stream",
     "name": "stdout",
     "text": [
      "\n\nCounter Total Idle Time => 94.05 Minutes\n\nAverage Waiting Time => 16.30 Minutes\nAverage Service Time => 8.75 Minutes\nAverage Time Spent In System => 19.21 Minutes\n"
     ]
    }
   ],
   "source": [
    "\n",
    "# Converting to pandas\n",
    "np_arr = np.array(result_fifo).reshape(n_customer,-1)\n",
    "labels = [*range(1,n_customer+1)]\n",
    "df_fifo=pd.DataFrame(data = np_arr,index=labels,columns=column_names)\n",
    "\n",
    "total_wait_time = np.sum(df_fifo[\"Total Wait Time\"])\n",
    "total_time_in_system = np.sum(df_fifo[\"Total Time in System\"])\n",
    "total_service_time = np.sum(df_fifo['Total Service Time'])\n",
    "print(\"\")\n",
    "\n",
    "def display(i):\n",
    "    print()\n",
    "    print(\"Counter Total Idle Time => %.2f Minutes\" % counter_total_wait_times)\n",
    "    print()\n",
    "    print(\"Average Waiting Time => %.2f Minutes\" % (total_wait_time / i))\n",
    "    print(\"Average Service Time => %.2f Minutes\" % (total_service_time / i))\n",
    "    print(\"Average Time Spent In System => %.2f Minutes\" % (total_time_in_system / i))\n",
    "\n",
    "display(n_customer)"
   ]
  }
 ],
 "metadata": {
  "kernelspec": {
   "display_name": "PyCharm (code)",
   "language": "python",
   "name": "pycharm-34c40bc0"
  },
  "language_info": {
   "codemirror_mode": {
    "name": "ipython",
    "version": 3
   },
   "file_extension": ".py",
   "mimetype": "text/x-python",
   "name": "python",
   "nbconvert_exporter": "python",
   "pygments_lexer": "ipython3",
   "version": "3.8.5-final"
  }
 },
 "nbformat": 4,
 "nbformat_minor": 4
}