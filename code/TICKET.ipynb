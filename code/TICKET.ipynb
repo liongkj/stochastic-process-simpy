{
 "cells": [
  {
   "source": [
    "Experiment settings"
   ],
   "cell_type": "markdown",
   "metadata": {}
  },
  {
   "cell_type": "code",
   "execution_count": 16,
   "metadata": {},
   "outputs": [],
   "source": [
    "import simpy\n",
    "import numpy as np\n",
    "import pandas as pd\n",
    "import random\n",
    "import math\n",
    "RANDOM_SEED = 42\n",
    "### problem paramters ####\n",
    "order_time_max = 5\n",
    "order_time_min = 1\n",
    "food_prepare_min = 2\n",
    "food_prepare_max = 6\n",
    "\n",
    "n_kitchen = 2\n",
    "n_counter = 2\n",
    "n_customer = 150\n",
    "SIM_TIME = 12 * 60 #12 hours\n",
    "\n",
    "random.seed(RANDOM_SEED)"
   ]
  },
  {
   "source": [
    "# helper functions, monitoring and pandas table\n"
   ],
   "cell_type": "markdown",
   "metadata": {}
  },
  {
   "cell_type": "code",
   "execution_count": 17,
   "metadata": {
    "collapsed": false,
    "jupyter": {
     "outputs_hidden": false
    },
    "pycharm": {
     "name": "#%%\n"
    }
   },
   "outputs": [],
   "source": [
    "def round_down(n, decimals=1):\n",
    "    multiplier = 10 ** decimals\n",
    "    return abs(math.floor(n*multiplier + 0.5) / multiplier)\n",
    "\n",
    "counter_total_wait_times = 0\n",
    "env = simpy.Environment()\n",
    "# ,\"Clock Time\",\"Interarrival Time\",\"Service Time\",\"Wait Time\",\"Queue Length\",\"Total Time In System\"\n",
    "column_names = [\"Arrival Time\",\"Service Start Time\",\"Queue time\",\"Exit Time\",\"Total Wait Time\",\"Total Service Time\",\"Total Time in System\"]\n",
    "result_fifo = np.zeros((n_customer,len(column_names)))\n",
    "result_tick = np.zeros((n_customer,len(column_names)))\n"
   ]
  },
  {
   "source": [
    "# Simulation setting\n",
    "## A) FIFO Algorithim"
   ],
   "cell_type": "markdown",
   "metadata": {}
  },
  {
   "cell_type": "code",
   "execution_count": 18,
   "metadata": {},
   "outputs": [],
   "source": [
    "class Counter(object):\n",
    "#     Counters to take order\n",
    "    def __init__(self,env,num_counter):\n",
    "        self.env = env\n",
    "        self.counter = simpy.Resource(env,num_counter)\n",
    "        self.counter_waiting = 0\n",
    "        self.service_start = None\n",
    "        \n",
    "    def take_order(self,cus,env):\n",
    "        self.service_start = env.now\n",
    "        print(\"%s is placing order at counter %.2f\" %(cus,self.service_start))\n",
    "        time_taken_to_place_order = np.random.uniform(order_time_min, order_time_max)\n",
    "        yield self.env.timeout(time_taken_to_place_order)\n",
    "        print(\"Order of %s sent to kitchen at %.2f\" %(cus, env.now))\n",
    "        # yield env.process(tank_truck(env, fuel_pump))\n",
    "\n",
    "    def receive_order(self,cus,env,resource):\n",
    "        global counter_total_wait_times\n",
    "\n",
    "        with resource.kitchen.request() as my_turn:\n",
    "            yield my_turn\n",
    "            yield env.process(resource.prepare_food(cus,env))\n",
    "            service_end = env.now\n",
    "            print(\"%s collected the food at %.2f\" %(cus, service_end))\n",
    "            # Record idle counter and add to total count\n",
    "            # counter_total_wait_times += (service_end-self.service_start)\n",
    "\n",
    "class Kitchen(object):\n",
    "    # Kitchen to prepare food\n",
    "    def __init__(self,env,num_kitchen):\n",
    "        self.env = env\n",
    "        self.kitchen = simpy.Resource(env,num_kitchen)\n",
    "    \n",
    "    def prepare_food(self,cus,env):\n",
    "        print(\"Kitchen is preparing food for %s at %.2f\" %(cus, env.now))\n",
    "        food_prepare_time = np.random.uniform(food_prepare_min,food_prepare_max)\n",
    "        yield self.env.timeout(food_prepare_time)\n",
    "        print(\"Cooked food for %s at %.2f\" %(cus, env.now))\n",
    "\n",
    "def customer(env, label, queue, kitchen, data):\n",
    "#     the customer process arrive at the restaurant and request counter to take order\n",
    "    label = label-1\n",
    "    arrive_time = env.now\n",
    "    print(\"%s entering the queue at %.2f\"%(label,arrive_time))\n",
    "#     data[label,0]=label\n",
    "    data[label,0]= round_down(arrive_time)\n",
    "    with queue.counter.request() as my_turn:\n",
    "        yield my_turn\n",
    "        service_start = env.now\n",
    "        data[label,1] = round_down(service_start)\n",
    "        queue_time = service_start - arrive_time\n",
    "        data[label,2]= round_down(queue_time)\n",
    "        # placing order at counter\n",
    "        yield env.process(queue.take_order(label,env))\n",
    "        # waiting order at counter\n",
    "        prepare_food_start = env.now\n",
    "        # counter is idle now\n",
    "    yield env.process(queue.receive_order(label,env,kitchen))\n",
    "    # prepare_food_end = round_down(env.now)\n",
    "    # counter_total_wait_times += round_down(prepare_food_end - prepare_food_start)\n",
    "    # receive food from counter\n",
    "    prepare_food_end = env.now\n",
    "    data[label,3] = round_down(prepare_food_end)\n",
    "\n",
    "    kitchen_prepare_duration = (prepare_food_end-prepare_food_start)\n",
    "    # total wait time\n",
    "    data[label,4] = round_down(kitchen_prepare_duration+queue_time)\n",
    "    # total service time\n",
    "    data[label,5] = round_down(prepare_food_end-service_start)\n",
    "    # total time in system\n",
    "    data[label,6] = round_down(prepare_food_end-arrive_time)\n"
   ]
  },
  {
   "source": [
    "## Start Ticket Simulation"
   ],
   "cell_type": "markdown",
   "metadata": {}
  },
  {
   "cell_type": "code",
   "execution_count": 19,
   "metadata": {
    "scrolled": true,
    "tags": [
     "outputPrepend"
    ]
   },
   "outputs": [
    {
     "output_type": "stream",
     "name": "stdout",
     "text": [
      "d food for 48 at 213.48\n48 collected the food at 213.48\nKitchen is preparing food for 51 at 213.48\nOrder of 52 sent to kitchen at 215.07\nCooked food for 50 at 216.94\n50 collected the food at 216.94\nKitchen is preparing food for 52 at 216.94\nCooked food for 51 at 217.40\n51 collected the food at 217.40\nCooked food for 52 at 220.38\n52 collected the food at 220.38\n53 entering the queue at 224.37\n53 is placing order at counter 224.37\nOrder of 53 sent to kitchen at 226.55\nKitchen is preparing food for 53 at 226.55\n54 entering the queue at 229.59\n54 is placing order at counter 229.59\nCooked food for 53 at 230.69\n53 collected the food at 230.69\nOrder of 54 sent to kitchen at 231.98\nKitchen is preparing food for 54 at 231.98\n55 entering the queue at 234.29\n55 is placing order at counter 234.29\n56 entering the queue at 235.22\n56 is placing order at counter 235.22\nCooked food for 54 at 237.07\n54 collected the food at 237.07\nOrder of 55 sent to kitchen at 237.61\nKitchen is preparing food for 55 at 237.61\nOrder of 56 sent to kitchen at 238.05\nKitchen is preparing food for 56 at 238.05\nCooked food for 56 at 240.14\n56 collected the food at 240.14\n57 entering the queue at 241.75\n57 is placing order at counter 241.75\n58 entering the queue at 242.65\n58 is placing order at counter 242.65\nCooked food for 55 at 242.94\n55 collected the food at 242.94\n59 entering the queue at 245.03\nOrder of 58 sent to kitchen at 245.15\nKitchen is preparing food for 58 at 245.15\n59 is placing order at counter 245.15\nOrder of 57 sent to kitchen at 245.93\nKitchen is preparing food for 57 at 245.93\nCooked food for 58 at 247.47\n58 collected the food at 247.47\nOrder of 59 sent to kitchen at 248.59\nKitchen is preparing food for 59 at 248.59\nCooked food for 57 at 250.95\n57 collected the food at 250.95\nCooked food for 59 at 251.77\n59 collected the food at 251.77\n60 entering the queue at 267.83\n60 is placing order at counter 267.83\nOrder of 60 sent to kitchen at 270.08\nKitchen is preparing food for 60 at 270.08\n61 entering the queue at 272.93\n61 is placing order at counter 272.93\nCooked food for 60 at 274.86\n60 collected the food at 274.86\n62 entering the queue at 277.00\n62 is placing order at counter 277.00\nOrder of 61 sent to kitchen at 277.93\nKitchen is preparing food for 61 at 277.93\nOrder of 62 sent to kitchen at 281.67\nKitchen is preparing food for 62 at 281.67\n63 entering the queue at 282.77\n63 is placing order at counter 282.77\nCooked food for 61 at 282.90\n61 collected the food at 282.90\nCooked food for 62 at 284.62\n62 collected the food at 284.62\nOrder of 63 sent to kitchen at 284.86\nKitchen is preparing food for 63 at 284.86\nCooked food for 63 at 288.92\n63 collected the food at 288.92\n64 entering the queue at 292.03\n64 is placing order at counter 292.03\nOrder of 64 sent to kitchen at 293.48\nKitchen is preparing food for 64 at 293.48\nCooked food for 64 at 296.31\n64 collected the food at 296.31\n65 entering the queue at 299.51\n65 is placing order at counter 299.51\n66 entering the queue at 300.81\n66 is placing order at counter 300.81\n67 entering the queue at 300.97\nOrder of 65 sent to kitchen at 300.98\nKitchen is preparing food for 65 at 300.98\n67 is placing order at counter 300.98\n68 entering the queue at 302.87\nOrder of 67 sent to kitchen at 303.95\nKitchen is preparing food for 67 at 303.95\n68 is placing order at counter 303.95\nOrder of 66 sent to kitchen at 304.40\n69 entering the queue at 304.42\n69 is placing order at counter 304.42\n70 entering the queue at 305.61\nOrder of 69 sent to kitchen at 305.65\n70 is placing order at counter 305.65\nCooked food for 65 at 305.68\n65 collected the food at 305.68\nKitchen is preparing food for 66 at 305.68\nOrder of 68 sent to kitchen at 307.25\nCooked food for 67 at 307.34\n67 collected the food at 307.34\nKitchen is preparing food for 69 at 307.34\nCooked food for 66 at 309.83\n66 collected the food at 309.83\nKitchen is preparing food for 68 at 309.83\nCooked food for 69 at 310.27\n69 collected the food at 310.27\nOrder of 70 sent to kitchen at 310.58\nKitchen is preparing food for 70 at 310.58\nCooked food for 70 at 314.46\n70 collected the food at 314.46\nCooked food for 68 at 314.61\n68 collected the food at 314.61\n71 entering the queue at 319.92\n71 is placing order at counter 319.92\nOrder of 71 sent to kitchen at 324.18\nKitchen is preparing food for 71 at 324.18\nCooked food for 71 at 326.49\n71 collected the food at 326.49\n72 entering the queue at 330.38\n72 is placing order at counter 330.38\nOrder of 72 sent to kitchen at 331.50\nKitchen is preparing food for 72 at 331.50\n73 entering the queue at 332.27\n73 is placing order at counter 332.27\nCooked food for 72 at 335.83\n72 collected the food at 335.83\nOrder of 73 sent to kitchen at 336.44\nKitchen is preparing food for 73 at 336.44\n74 entering the queue at 337.59\n74 is placing order at counter 337.59\nCooked food for 73 at 339.32\n73 collected the food at 339.32\n75 entering the queue at 340.11\n75 is placing order at counter 340.11\nOrder of 74 sent to kitchen at 341.63\nKitchen is preparing food for 74 at 341.63\nOrder of 75 sent to kitchen at 343.68\nKitchen is preparing food for 75 at 343.68\nCooked food for 74 at 345.88\n74 collected the food at 345.88\nCooked food for 75 at 346.14\n75 collected the food at 346.14\n76 entering the queue at 352.41\n76 is placing order at counter 352.41\nOrder of 76 sent to kitchen at 354.98\nKitchen is preparing food for 76 at 354.98\n77 entering the queue at 355.48\n77 is placing order at counter 355.48\n78 entering the queue at 357.02\n78 is placing order at counter 357.02\n79 entering the queue at 358.44\nOrder of 77 sent to kitchen at 358.52\nKitchen is preparing food for 77 at 358.52\n79 is placing order at counter 358.52\nCooked food for 76 at 359.67\n76 collected the food at 359.67\nOrder of 78 sent to kitchen at 360.78\nKitchen is preparing food for 78 at 360.78\n80 entering the queue at 362.56\n80 is placing order at counter 362.56\nOrder of 79 sent to kitchen at 362.66\nCooked food for 77 at 363.40\n77 collected the food at 363.40\nKitchen is preparing food for 79 at 363.40\n81 entering the queue at 364.08\n81 is placing order at counter 364.08\nCooked food for 78 at 365.66\n78 collected the food at 365.66\nOrder of 80 sent to kitchen at 366.27\nKitchen is preparing food for 80 at 366.27\nOrder of 81 sent to kitchen at 367.89\n82 entering the queue at 368.47\n82 is placing order at counter 368.47\nCooked food for 80 at 368.57\n80 collected the food at 368.57\nKitchen is preparing food for 81 at 368.57\nCooked food for 79 at 368.80\n79 collected the food at 368.80\nOrder of 82 sent to kitchen at 371.45\nKitchen is preparing food for 82 at 371.45\nCooked food for 81 at 373.07\n81 collected the food at 373.07\nCooked food for 82 at 373.78\n82 collected the food at 373.78\n83 entering the queue at 379.88\n83 is placing order at counter 379.88\nOrder of 83 sent to kitchen at 381.66\nKitchen is preparing food for 83 at 381.66\n84 entering the queue at 382.43\n84 is placing order at counter 382.43\n85 entering the queue at 383.66\n85 is placing order at counter 383.66\nOrder of 84 sent to kitchen at 383.79\nKitchen is preparing food for 84 at 383.79\nCooked food for 83 at 383.90\n83 collected the food at 383.90\nOrder of 85 sent to kitchen at 386.49\nKitchen is preparing food for 85 at 386.49\nCooked food for 84 at 388.14\n84 collected the food at 388.14\nCooked food for 85 at 391.99\n85 collected the food at 391.99\n86 entering the queue at 413.70\n86 is placing order at counter 413.70\nOrder of 86 sent to kitchen at 415.37\nKitchen is preparing food for 86 at 415.37\n87 entering the queue at 417.26\n87 is placing order at counter 417.26\n88 entering the queue at 417.74\n88 is placing order at counter 417.74\n89 entering the queue at 417.98\nCooked food for 86 at 418.02\n86 collected the food at 418.02\n90 entering the queue at 418.56\nOrder of 88 sent to kitchen at 420.16\nKitchen is preparing food for 88 at 420.16\n89 is placing order at counter 420.16\nOrder of 87 sent to kitchen at 420.66\nKitchen is preparing food for 87 at 420.66\n90 is placing order at counter 420.66\nOrder of 89 sent to kitchen at 421.30\n91 entering the queue at 423.50\n91 is placing order at counter 423.50\nOrder of 90 sent to kitchen at 424.29\nOrder of 91 sent to kitchen at 425.50\nCooked food for 88 at 425.84\n88 collected the food at 425.84\nKitchen is preparing food for 89 at 425.84\nCooked food for 87 at 426.32\n87 collected the food at 426.32\nKitchen is preparing food for 90 at 426.32\nCooked food for 89 at 428.07\n89 collected the food at 428.07\nKitchen is preparing food for 91 at 428.07\nCooked food for 90 at 430.69\n90 collected the food at 430.69\nCooked food for 91 at 431.05\n91 collected the food at 431.05\n92 entering the queue at 431.35\n92 is placing order at counter 431.35\n93 entering the queue at 434.09\n93 is placing order at counter 434.09\n94 entering the queue at 434.42\nOrder of 92 sent to kitchen at 434.49\nKitchen is preparing food for 92 at 434.49\n94 is placing order at counter 434.49\nOrder of 94 sent to kitchen at 436.27\nKitchen is preparing food for 94 at 436.27\n95 entering the queue at 436.82\n95 is placing order at counter 436.82\nOrder of 93 sent to kitchen at 437.25\nCooked food for 92 at 438.36\n92 collected the food at 438.36\nKitchen is preparing food for 93 at 438.36\nCooked food for 94 at 439.07\n94 collected the food at 439.07\nOrder of 95 sent to kitchen at 441.32\nKitchen is preparing food for 95 at 441.32\nCooked food for 93 at 442.51\n93 collected the food at 442.51\nCooked food for 95 at 447.28\n95 collected the food at 447.28\n96 entering the queue at 464.58\n96 is placing order at counter 464.58\nOrder of 96 sent to kitchen at 466.52\nKitchen is preparing food for 96 at 466.52\n97 entering the queue at 468.35\n97 is placing order at counter 468.35\nCooked food for 96 at 470.92\n96 collected the food at 470.92\nOrder of 97 sent to kitchen at 473.17\nKitchen is preparing food for 97 at 473.17\nCooked food for 97 at 477.96\n97 collected the food at 477.96\n98 entering the queue at 486.06\n98 is placing order at counter 486.06\nOrder of 98 sent to kitchen at 487.88\nKitchen is preparing food for 98 at 487.88\nCooked food for 98 at 491.66\n98 collected the food at 491.66\n99 entering the queue at 495.92\n99 is placing order at counter 495.92\n100 entering the queue at 495.98\n100 is placing order at counter 495.98\nOrder of 100 sent to kitchen at 497.01\nKitchen is preparing food for 100 at 497.01\nCooked food for 100 at 499.66\n100 collected the food at 499.66\nOrder of 99 sent to kitchen at 500.30\nKitchen is preparing food for 99 at 500.30\n101 entering the queue at 502.36\n101 is placing order at counter 502.36\nCooked food for 99 at 504.03\n99 collected the food at 504.03\nOrder of 101 sent to kitchen at 506.30\nKitchen is preparing food for 101 at 506.30\n102 entering the queue at 508.08\n102 is placing order at counter 508.08\nCooked food for 101 at 509.91\n101 collected the food at 509.91\nOrder of 102 sent to kitchen at 510.26\nKitchen is preparing food for 102 at 510.26\n103 entering the queue at 511.93\n103 is placing order at counter 511.93\nCooked food for 102 at 513.32\n102 collected the food at 513.32\n104 entering the queue at 513.48\n104 is placing order at counter 513.48\nOrder of 103 sent to kitchen at 515.13\nKitchen is preparing food for 103 at 515.13\nOrder of 104 sent to kitchen at 517.71\nKitchen is preparing food for 104 at 517.71\n105 entering the queue at 518.61\n105 is placing order at counter 518.61\n106 entering the queue at 519.20\n106 is placing order at counter 519.20\nCooked food for 103 at 519.86\n103 collected the food at 519.86\nOrder of 105 sent to kitchen at 520.59\nKitchen is preparing food for 105 at 520.59\nCooked food for 104 at 521.93\n104 collected the food at 521.93\n107 entering the queue at 522.05\n107 is placing order at counter 522.05\nCooked food for 105 at 522.94\n105 collected the food at 522.94\nOrder of 107 sent to kitchen at 523.10\nKitchen is preparing food for 107 at 523.10\nOrder of 106 sent to kitchen at 523.72\nKitchen is preparing food for 106 at 523.72\n108 entering the queue at 525.07\n108 is placing order at counter 525.07\nCooked food for 107 at 525.67\n107 collected the food at 525.67\nCooked food for 106 at 525.72\n106 collected the food at 525.72\nOrder of 108 sent to kitchen at 527.23\nKitchen is preparing food for 108 at 527.23\nCooked food for 108 at 529.64\n108 collected the food at 529.64\n109 entering the queue at 540.45\n109 is placing order at counter 540.45\nOrder of 109 sent to kitchen at 544.08\nKitchen is preparing food for 109 at 544.08\nCooked food for 109 at 549.82\n109 collected the food at 549.82\n110 entering the queue at 550.88\n110 is placing order at counter 550.88\n111 entering the queue at 552.41\n111 is placing order at counter 552.41\nOrder of 110 sent to kitchen at 554.20\nKitchen is preparing food for 110 at 554.20\n112 entering the queue at 555.88\n112 is placing order at counter 555.88\nOrder of 111 sent to kitchen at 556.35\nKitchen is preparing food for 111 at 556.35\n113 entering the queue at 556.86\n113 is placing order at counter 556.86\nOrder of 112 sent to kitchen at 557.13\nCooked food for 110 at 557.38\n110 collected the food at 557.38\nKitchen is preparing food for 112 at 557.38\nCooked food for 111 at 559.39\n111 collected the food at 559.39\nCooked food for 112 at 560.90\n112 collected the food at 560.90\nOrder of 113 sent to kitchen at 561.86\nKitchen is preparing food for 113 at 561.86\nCooked food for 113 at 564.54\n113 collected the food at 564.54\n114 entering the queue at 569.05\n114 is placing order at counter 569.05\nOrder of 114 sent to kitchen at 571.84\nKitchen is preparing food for 114 at 571.84\nCooked food for 114 at 576.85\n114 collected the food at 576.85\n115 entering the queue at 579.27\n115 is placing order at counter 579.27\n116 entering the queue at 581.05\n116 is placing order at counter 581.05\nOrder of 115 sent to kitchen at 581.17\nKitchen is preparing food for 115 at 581.17\nOrder of 116 sent to kitchen at 583.41\nKitchen is preparing food for 116 at 583.41\n117 entering the queue at 586.14\n117 is placing order at counter 586.14\nCooked food for 116 at 586.50\n116 collected the food at 586.50\nCooked food for 115 at 586.91\n115 collected the food at 586.91\nOrder of 117 sent to kitchen at 590.26\nKitchen is preparing food for 117 at 590.26\n118 entering the queue at 590.83\n118 is placing order at counter 590.83\n119 entering the queue at 591.66\n119 is placing order at counter 591.66\nOrder of 118 sent to kitchen at 593.60\nKitchen is preparing food for 118 at 593.60\nOrder of 119 sent to kitchen at 595.16\nCooked food for 117 at 595.64\n117 collected the food at 595.64\nKitchen is preparing food for 119 at 595.64\nCooked food for 118 at 595.70\n118 collected the food at 595.70\n120 entering the queue at 598.85\n120 is placing order at counter 598.85\nCooked food for 119 at 599.41\n119 collected the food at 599.41\nOrder of 120 sent to kitchen at 602.35\nKitchen is preparing food for 120 at 602.35\n121 entering the queue at 602.73\n121 is placing order at counter 602.73\nOrder of 121 sent to kitchen at 606.04\nKitchen is preparing food for 121 at 606.04\nCooked food for 120 at 606.09\n120 collected the food at 606.09\n122 entering the queue at 610.27\n122 is placing order at counter 610.27\nCooked food for 121 at 610.74\n121 collected the food at 610.74\nOrder of 122 sent to kitchen at 613.67\nKitchen is preparing food for 122 at 613.67\n123 entering the queue at 614.05\n123 is placing order at counter 614.05\n124 entering the queue at 614.05\n124 is placing order at counter 614.05\nOrder of 124 sent to kitchen at 615.67\nKitchen is preparing food for 124 at 615.67\n125 entering the queue at 616.01\n125 is placing order at counter 616.01\n126 entering the queue at 616.11\nCooked food for 122 at 616.21\n122 collected the food at 616.21\nOrder of 123 sent to kitchen at 617.40\nKitchen is preparing food for 123 at 617.40\n126 is placing order at counter 617.40\nCooked food for 124 at 618.89\n124 collected the food at 618.89\nOrder of 126 sent to kitchen at 619.20\nKitchen is preparing food for 126 at 619.20\nOrder of 125 sent to kitchen at 620.11\nCooked food for 123 at 622.04\n123 collected the food at 622.04\nKitchen is preparing food for 125 at 622.04\nCooked food for 126 at 625.08\n126 collected the food at 625.08\nCooked food for 125 at 626.42\n125 collected the food at 626.42\n127 entering the queue at 629.34\n127 is placing order at counter 629.34\nOrder of 127 sent to kitchen at 634.00\nKitchen is preparing food for 127 at 634.00\nCooked food for 127 at 638.91\n127 collected the food at 638.91\n128 entering the queue at 639.89\n128 is placing order at counter 639.89\nOrder of 128 sent to kitchen at 641.09\nKitchen is preparing food for 128 at 641.09\nCooked food for 128 at 643.27\n128 collected the food at 643.27\n129 entering the queue at 648.80\n129 is placing order at counter 648.80\n130 entering the queue at 650.63\n130 is placing order at counter 650.63\n131 entering the queue at 650.93\nOrder of 129 sent to kitchen at 651.26\nKitchen is preparing food for 129 at 651.26\n131 is placing order at counter 651.26\nOrder of 130 sent to kitchen at 654.01\nKitchen is preparing food for 130 at 654.01\nOrder of 131 sent to kitchen at 654.02\nCooked food for 129 at 656.56\n129 collected the food at 656.56\nKitchen is preparing food for 131 at 656.56\nCooked food for 130 at 657.12\n130 collected the food at 657.12\nCooked food for 131 at 660.53\n131 collected the food at 660.53\n132 entering the queue at 661.45\n132 is placing order at counter 661.45\nOrder of 132 sent to kitchen at 664.65\nKitchen is preparing food for 132 at 664.65\nCooked food for 132 at 667.29\n132 collected the food at 667.29\n133 entering the queue at 676.13\n133 is placing order at counter 676.13\n134 entering the queue at 676.58\n134 is placing order at counter 676.58\nOrder of 133 sent to kitchen at 677.64\nKitchen is preparing food for 133 at 677.64\nOrder of 134 sent to kitchen at 679.80\nKitchen is preparing food for 134 at 679.80\n135 entering the queue at 679.91\n135 is placing order at counter 679.91\n136 entering the queue at 680.27\n136 is placing order at counter 680.27\nOrder of 135 sent to kitchen at 680.97\nCooked food for 133 at 682.11\n133 collected the food at 682.11\nKitchen is preparing food for 135 at 682.11\nOrder of 136 sent to kitchen at 682.12\nCooked food for 134 at 683.48\n134 collected the food at 683.48\nKitchen is preparing food for 136 at 683.48\nCooked food for 136 at 685.72\n136 collected the food at 685.72\nCooked food for 135 at 686.12\n135 collected the food at 686.12\n137 entering the queue at 687.42\n137 is placing order at counter 687.42\nOrder of 137 sent to kitchen at 688.47\nKitchen is preparing food for 137 at 688.47\nCooked food for 137 at 692.13\n137 collected the food at 692.13\n138 entering the queue at 694.67\n138 is placing order at counter 694.67\n139 entering the queue at 695.36\n139 is placing order at counter 695.36\nOrder of 138 sent to kitchen at 696.70\nKitchen is preparing food for 138 at 696.70\n140 entering the queue at 698.59\n140 is placing order at counter 698.59\nOrder of 139 sent to kitchen at 700.31\nKitchen is preparing food for 139 at 700.31\nCooked food for 138 at 700.36\n138 collected the food at 700.36\nOrder of 140 sent to kitchen at 702.26\nKitchen is preparing food for 140 at 702.26\n141 entering the queue at 702.58\n141 is placing order at counter 702.58\nOrder of 141 sent to kitchen at 703.85\n142 entering the queue at 704.12\n142 is placing order at counter 704.12\nCooked food for 140 at 705.63\n140 collected the food at 705.63\nKitchen is preparing food for 141 at 705.63\nOrder of 142 sent to kitchen at 705.71\nCooked food for 139 at 705.87\n139 collected the food at 705.87\nKitchen is preparing food for 142 at 705.87\nCooked food for 142 at 708.23\n142 collected the food at 708.23\nCooked food for 141 at 711.52\n141 collected the food at 711.52\n143 entering the queue at 714.41\n143 is placing order at counter 714.41\nOrder of 143 sent to kitchen at 716.08\nKitchen is preparing food for 143 at 716.08\n144 entering the queue at 717.16\n144 is placing order at counter 717.16\n145 entering the queue at 718.35\n145 is placing order at counter 718.35\n"
     ]
    }
   ],
   "source": [
    "# Simlating possion process for customer arrival\n",
    "def customer_arrivals(env, num_counter,num_kitchen):\n",
    "    \"\"\"Create new *customer* until the sim time reaches 120. with poisson process\"\"\"\n",
    "    counter = Counter(env,num_counter)\n",
    "    kitchen = Kitchen(env,num_kitchen)\n",
    "    for i in range(n_customer):\n",
    "        yield env.timeout(random.expovariate(1 / 5))\n",
    "        env.process(customer(env, i+1, counter, kitchen, result_fifo))\n",
    "\n",
    "env.process(customer_arrivals(env, n_counter,n_kitchen))\n",
    "env.run(until=SIM_TIME)"
   ]
  },
  {
   "source": [
    "## FIFO Result & Analysis"
   ],
   "cell_type": "markdown",
   "metadata": {}
  },
  {
   "cell_type": "code",
   "execution_count": 20,
   "metadata": {},
   "outputs": [
    {
     "output_type": "stream",
     "name": "stdout",
     "text": [
      "\n\nCounter Total Idle Time => 0.00 Minutes\n\nAverage Waiting Time => 4.17 Minutes\nAverage Service Time => 6.74 Minutes\nAverage Time Spent In System => 6.90 Minutes\n"
     ]
    }
   ],
   "source": [
    "\n",
    "# Converting to pandas\n",
    "np_arr = np.array(result_fifo).reshape(n_customer,-1)\n",
    "labels = [*range(1,n_customer+1)]\n",
    "df_fifo=pd.DataFrame(data = np_arr,index=labels,columns=column_names)\n",
    "\n",
    "total_wait_time = np.sum(df_fifo[\"Total Wait Time\"])\n",
    "total_time_in_system = np.sum(df_fifo[\"Total Time in System\"])\n",
    "total_service_time = np.sum(df_fifo['Total Service Time'])\n",
    "print(\"\")\n",
    "\n",
    "def display(i):\n",
    "    print()\n",
    "    print(\"Counter Total Idle Time => %.2f Minutes\" % counter_total_wait_times)\n",
    "    print()\n",
    "    print(\"Average Waiting Time => %.2f Minutes\" % (total_wait_time / i))\n",
    "    print(\"Average Service Time => %.2f Minutes\" % (total_service_time / i))\n",
    "    print(\"Average Time Spent In System => %.2f Minutes\" % (total_time_in_system / i))\n",
    "\n",
    "display(n_customer)"
   ]
  }
 ],
 "metadata": {
  "kernelspec": {
   "display_name": "PyCharm (code)",
   "language": "python",
   "name": "pycharm-34c40bc0"
  },
  "language_info": {
   "codemirror_mode": {
    "name": "ipython",
    "version": 3
   },
   "file_extension": ".py",
   "mimetype": "text/x-python",
   "name": "python",
   "nbconvert_exporter": "python",
   "pygments_lexer": "ipython3",
   "version": "3.8.5-final"
  }
 },
 "nbformat": 4,
 "nbformat_minor": 4
}