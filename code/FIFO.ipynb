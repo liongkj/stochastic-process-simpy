{
 "cells": [
  {
   "cell_type": "code",
   "execution_count": 7,
   "metadata": {},
   "outputs": [],
   "source": [
    "import simpy\n",
    "import numpy as np\n",
    "import pandas as pd\n",
    "import random\n",
    "import math\n",
    "RANDOM_SEED = 42\n",
    "### problem paramters ####\n",
    "order_time_max = 5\n",
    "order_time_min = 1\n",
    "food_prepare_min = 2\n",
    "food_prepare_max = 6\n",
    "\n",
    "t_inter = 4\n",
    "n_counter = 2\n",
    "n_customer = 20\n",
    "SIM_TIME = 12 * 60 #12 hours\n",
    "\n",
    "\n",
    "\n",
    "random.seed(RANDOM_SEED)"
   ]
  },
  {
   "cell_type": "code",
   "execution_count": 12,
   "metadata": {
    "collapsed": false,
    "jupyter": {
     "outputs_hidden": false
    },
    "pycharm": {
     "name": "#%%\n"
    }
   },
   "outputs": [],
   "source": [
    "# set up monitoring\n",
    "\n",
    "# class CounterWaitingTime(simpy.Resource):\n",
    "#     def __init__(self,*args, **kwargs):\n",
    "#         super().__init__(*args,**kwargs)\n",
    "#         self.data = []\n",
    "#     def request(self,*args,**kwargs):\n",
    "#         self.data.append((self._env.now,len(self.queue)))\n",
    "#         return  super().request(*args,**kwargs)\n",
    "#     def release(self, *args,**kwargs):\n",
    "#         self.data.append((self._env.now,len(self.queue)))\n",
    "#         return super().release(*args,**kwargs)\n",
    "# def setup_monitoring(env,res):\n",
    "#     with res.request() as req:\n",
    "#         yield req\n",
    "#         yield env.timeout(1)\n",
    "# res = CounterWaitingTime()\n",
    "def round_down(n, decimals=1):\n",
    "    multiplier = 10 ** decimals\n",
    "    return abs(math.floor(n*multiplier + 0.5) / multiplier)\n",
    "\n",
    "counter_total_wait_times = 0\n",
    "\n",
    "# ,\"Clock Time\",\"Interarrival Time\",\"Service Time\",\"Wait Time\",\"Queue Length\",\"Total Time In System\"\n",
    "column_names = [\"Arrival Time\",\"Service Start Time\",\"Queue time\",\"Exit Time\",\"Total Wait Time\",\"Total Service Time\",\"Total Time in System\"]\n",
    "data = np.zeros((n_customer,len(column_names)))"
   ]
  },
  {
   "cell_type": "code",
   "execution_count": 13,
   "metadata": {},
   "outputs": [],
   "source": [
    "def customer_arrivals(env, num_counter):\n",
    "    \"\"\"Create new *customer* until the sim time reaches 120. with poisson process\"\"\"\n",
    "    counter = Counter(env,num_counter)\n",
    "    for i in range(n_customer):\n",
    "        # simulating Poisson process\n",
    "        yield env.timeout(random.expovariate(1 / 5))\n",
    "        env.process(customer(env, i+1, counter))\n",
    "\n",
    "class Counter(object):\n",
    "#     Counters to take order\n",
    "    def __init__(self,env,num_counter):\n",
    "        self.env = env\n",
    "        self.counter = simpy.Resource(env,num_counter)\n",
    "        # res = CounterWaitingTime()\n",
    "        self.counter_waiting = 0\n",
    "        self.service_start = None\n",
    "        # self.counter_total_wait_times =None\n",
    "        \n",
    "        \n",
    "    def take_order(self,cus,env):\n",
    "        self.service_start = env.now\n",
    "        print(\"%s is placing order at counter %.2f\" %(cus,self.service_start))\n",
    "        time_taken_to_place_order = np.random.uniform(order_time_min, order_time_max)\n",
    "        yield self.env.timeout(time_taken_to_place_order)\n",
    "        print(\"Order of %s sent to kitchen at %.2f\" %(cus, env.now))\n",
    "        # yield env.process(tank_truck(env, fuel_pump))\n",
    "\n",
    "    def receive_order(self,cus,env):\n",
    "        global counter_total_wait_times\n",
    "        food_prepare_time = np.random.uniform(food_prepare_min,food_prepare_max)\n",
    "        yield self.env.timeout(food_prepare_time)\n",
    "        service_end = env.now\n",
    "        print(\"%s collected the food at %.2f\" %(cus, service_end))\n",
    "        counter_total_wait_times = counter_total_wait_times+(service_end-self.service_start)\n",
    "\n",
    "def customer(env, label, order):\n",
    "#     the customer process arrive at the restaurant and request counter to take order\n",
    "    label = label-1\n",
    "    arrive_time = env.now\n",
    "    print(\"%s entering the queue at %.2f\"%(label,arrive_time))\n",
    "#     data[label,0]=label\n",
    "    data[label,0]= round_down(arrive_time)\n",
    "    with order.counter.request() as my_turn:\n",
    "        yield my_turn\n",
    "        service_start = env.now\n",
    "        data[label,1] = round_down(service_start)\n",
    "        queue_time = service_start - arrive_time\n",
    "        data[label,2]= round_down(queue_time)\n",
    "        # placing order at counter\n",
    "        yield env.process(order.take_order(label,env))\n",
    "        # waiting order at counter\n",
    "        prepare_food_start = env.now\n",
    "        # counter is idle now\n",
    "        yield env.process(order.receive_order(label,env))\n",
    "        # prepare_food_end = round_down(env.now)\n",
    "        # counter_total_wait_times += round_down(prepare_food_end - prepare_food_start)\n",
    "        # receive food from counter\n",
    "        prepare_food_end = env.now\n",
    "        data[label,3] = round_down(prepare_food_end)\n",
    "\n",
    "        kitchen_prepare_duration = (prepare_food_end-prepare_food_start)\n",
    "        # total wait time\n",
    "        data[label,4] = round_down(kitchen_prepare_duration+queue_time)\n",
    "        # total service time\n",
    "        data[label,5] = round_down(prepare_food_end-service_start)\n",
    "        # total time in system\n",
    "        data[label,6] = round_down(prepare_food_end-arrive_time)\n",
    "        # monitor counter idle time\n",
    "        \n",
    "\n",
    "\n",
    "\n",
    "env = simpy.Environment()"
   ]
  },
  {
   "cell_type": "code",
   "execution_count": 14,
   "metadata": {
    "scrolled": true
   },
   "outputs": [
    {
     "output_type": "stream",
     "name": "stdout",
     "text": [
      "0 entering the queue at 8.19\n0 is placing order at counter 8.19\nOrder of 0 sent to kitchen at 11.29\n1 entering the queue at 14.18\n1 is placing order at counter 14.18\n0 collected the food at 15.87\n2 entering the queue at 16.26\n2 is placing order at counter 16.26\n3 entering the queue at 17.11\nOrder of 1 sent to kitchen at 18.85\nOrder of 2 sent to kitchen at 19.97\n2 collected the food at 23.09\n3 is placing order at counter 23.09\n1 collected the food at 24.46\nOrder of 3 sent to kitchen at 27.65\n3 collected the food at 31.71\n4 entering the queue at 32.87\n4 is placing order at counter 32.87\n5 entering the queue at 34.92\n5 is placing order at counter 34.92\n6 entering the queue at 35.40\n7 entering the queue at 35.91\nOrder of 4 sent to kitchen at 36.83\nOrder of 5 sent to kitchen at 36.94\n5 collected the food at 39.83\n6 is placing order at counter 39.83\n4 collected the food at 40.99\n7 is placing order at counter 40.99\nOrder of 7 sent to kitchen at 42.11\nOrder of 6 sent to kitchen at 43.14\n6 collected the food at 45.14\n8 entering the queue at 45.32\n8 is placing order at counter 45.32\n7 collected the food at 45.85\nOrder of 8 sent to kitchen at 49.41\n9 entering the queue at 49.94\n9 is placing order at counter 49.94\nOrder of 9 sent to kitchen at 54.11\n8 collected the food at 54.89\n10 entering the queue at 58.17\n10 is placing order at counter 58.17\n9 collected the food at 58.17\nOrder of 10 sent to kitchen at 60.80\n11 entering the queue at 64.71\n11 is placing order at counter 64.71\n10 collected the food at 66.20\nOrder of 11 sent to kitchen at 68.22\n12 entering the queue at 68.56\n12 is placing order at counter 68.56\n11 collected the food at 71.12\nOrder of 12 sent to kitchen at 71.62\n12 collected the food at 74.19\n13 entering the queue at 86.64\n13 is placing order at counter 86.64\n14 entering the queue at 89.02\n14 is placing order at counter 89.02\nOrder of 13 sent to kitchen at 89.28\nOrder of 14 sent to kitchen at 91.61\n15 entering the queue at 93.03\n13 collected the food at 93.78\n15 is placing order at counter 93.78\nOrder of 15 sent to kitchen at 95.04\n14 collected the food at 95.64\n15 collected the food at 98.84\n16 entering the queue at 101.87\n16 is placing order at counter 101.87\nOrder of 16 sent to kitchen at 104.29\n17 entering the queue at 106.69\n17 is placing order at counter 106.69\n16 collected the food at 108.68\nOrder of 17 sent to kitchen at 111.19\n18 entering the queue at 116.58\n18 is placing order at counter 116.58\n17 collected the food at 116.94\nOrder of 18 sent to kitchen at 118.58\n19 entering the queue at 120.89\n19 is placing order at counter 120.89\n18 collected the food at 122.73\nOrder of 19 sent to kitchen at 122.81\n19 collected the food at 127.08\n"
     ]
    }
   ],
   "source": [
    "env.process(customer_arrivals(env, n_counter))\n",
    "env.run(until=SIM_TIME)"
   ]
  },
  {
   "cell_type": "code",
   "execution_count": 15,
   "metadata": {},
   "outputs": [
    {
     "output_type": "execute_result",
     "data": {
      "text/plain": [
       "    Arrival Time  Service Start Time  Queue time  Exit Time  Total Wait Time  \\\n",
       "1            8.2                 8.2         0.0       15.9              4.6   \n",
       "2           14.2                14.2         0.0       24.5              5.6   \n",
       "3           16.3                16.3         0.0       23.1              3.1   \n",
       "4           17.1                23.1         6.0       31.7             10.0   \n",
       "5           32.9                32.9         0.0       41.0              4.2   \n",
       "6           34.9                34.9         0.0       39.8              2.9   \n",
       "7           35.4                39.8         4.4       45.1              6.4   \n",
       "8           35.9                41.0         5.1       45.9              8.8   \n",
       "9           45.3                45.3         0.0       54.9              5.5   \n",
       "10          49.9                49.9         0.0       58.2              4.1   \n",
       "11          58.2                58.2         0.0       66.2              5.4   \n",
       "12          64.7                64.7         0.0       71.1              2.9   \n",
       "13          68.6                68.6         0.0       74.2              2.6   \n",
       "14          86.6                86.6         0.0       93.8              4.5   \n",
       "15          89.0                89.0         0.0       95.6              4.0   \n",
       "16          93.0                93.8         0.7       98.8              4.5   \n",
       "17         101.9               101.9         0.0      108.7              4.4   \n",
       "18         106.7               106.7         0.0      116.9              5.7   \n",
       "19         116.6               116.6         0.0      122.7              4.1   \n",
       "20         120.9               120.9         0.0      127.1              4.3   \n",
       "\n",
       "    Total Service Time  Total Time in System  \n",
       "1                  7.7                   7.7  \n",
       "2                 10.3                  10.3  \n",
       "3                  6.8                   6.8  \n",
       "4                  8.6                  14.6  \n",
       "5                  8.1                   8.1  \n",
       "6                  4.9                   4.9  \n",
       "7                  5.3                   9.7  \n",
       "8                  4.9                   9.9  \n",
       "9                  9.6                   9.6  \n",
       "10                 8.2                   8.2  \n",
       "11                 8.0                   8.0  \n",
       "12                 6.4                   6.4  \n",
       "13                 5.6                   5.6  \n",
       "14                 7.1                   7.1  \n",
       "15                 6.6                   6.6  \n",
       "16                 5.1                   5.8  \n",
       "17                 6.8                   6.8  \n",
       "18                10.2                  10.2  \n",
       "19                 6.1                   6.1  \n",
       "20                 6.2                   6.2  "
      ],
      "text/html": "<div>\n<style scoped>\n    .dataframe tbody tr th:only-of-type {\n        vertical-align: middle;\n    }\n\n    .dataframe tbody tr th {\n        vertical-align: top;\n    }\n\n    .dataframe thead th {\n        text-align: right;\n    }\n</style>\n<table border=\"1\" class=\"dataframe\">\n  <thead>\n    <tr style=\"text-align: right;\">\n      <th></th>\n      <th>Arrival Time</th>\n      <th>Service Start Time</th>\n      <th>Queue time</th>\n      <th>Exit Time</th>\n      <th>Total Wait Time</th>\n      <th>Total Service Time</th>\n      <th>Total Time in System</th>\n    </tr>\n  </thead>\n  <tbody>\n    <tr>\n      <th>1</th>\n      <td>8.2</td>\n      <td>8.2</td>\n      <td>0.0</td>\n      <td>15.9</td>\n      <td>4.6</td>\n      <td>7.7</td>\n      <td>7.7</td>\n    </tr>\n    <tr>\n      <th>2</th>\n      <td>14.2</td>\n      <td>14.2</td>\n      <td>0.0</td>\n      <td>24.5</td>\n      <td>5.6</td>\n      <td>10.3</td>\n      <td>10.3</td>\n    </tr>\n    <tr>\n      <th>3</th>\n      <td>16.3</td>\n      <td>16.3</td>\n      <td>0.0</td>\n      <td>23.1</td>\n      <td>3.1</td>\n      <td>6.8</td>\n      <td>6.8</td>\n    </tr>\n    <tr>\n      <th>4</th>\n      <td>17.1</td>\n      <td>23.1</td>\n      <td>6.0</td>\n      <td>31.7</td>\n      <td>10.0</td>\n      <td>8.6</td>\n      <td>14.6</td>\n    </tr>\n    <tr>\n      <th>5</th>\n      <td>32.9</td>\n      <td>32.9</td>\n      <td>0.0</td>\n      <td>41.0</td>\n      <td>4.2</td>\n      <td>8.1</td>\n      <td>8.1</td>\n    </tr>\n    <tr>\n      <th>6</th>\n      <td>34.9</td>\n      <td>34.9</td>\n      <td>0.0</td>\n      <td>39.8</td>\n      <td>2.9</td>\n      <td>4.9</td>\n      <td>4.9</td>\n    </tr>\n    <tr>\n      <th>7</th>\n      <td>35.4</td>\n      <td>39.8</td>\n      <td>4.4</td>\n      <td>45.1</td>\n      <td>6.4</td>\n      <td>5.3</td>\n      <td>9.7</td>\n    </tr>\n    <tr>\n      <th>8</th>\n      <td>35.9</td>\n      <td>41.0</td>\n      <td>5.1</td>\n      <td>45.9</td>\n      <td>8.8</td>\n      <td>4.9</td>\n      <td>9.9</td>\n    </tr>\n    <tr>\n      <th>9</th>\n      <td>45.3</td>\n      <td>45.3</td>\n      <td>0.0</td>\n      <td>54.9</td>\n      <td>5.5</td>\n      <td>9.6</td>\n      <td>9.6</td>\n    </tr>\n    <tr>\n      <th>10</th>\n      <td>49.9</td>\n      <td>49.9</td>\n      <td>0.0</td>\n      <td>58.2</td>\n      <td>4.1</td>\n      <td>8.2</td>\n      <td>8.2</td>\n    </tr>\n    <tr>\n      <th>11</th>\n      <td>58.2</td>\n      <td>58.2</td>\n      <td>0.0</td>\n      <td>66.2</td>\n      <td>5.4</td>\n      <td>8.0</td>\n      <td>8.0</td>\n    </tr>\n    <tr>\n      <th>12</th>\n      <td>64.7</td>\n      <td>64.7</td>\n      <td>0.0</td>\n      <td>71.1</td>\n      <td>2.9</td>\n      <td>6.4</td>\n      <td>6.4</td>\n    </tr>\n    <tr>\n      <th>13</th>\n      <td>68.6</td>\n      <td>68.6</td>\n      <td>0.0</td>\n      <td>74.2</td>\n      <td>2.6</td>\n      <td>5.6</td>\n      <td>5.6</td>\n    </tr>\n    <tr>\n      <th>14</th>\n      <td>86.6</td>\n      <td>86.6</td>\n      <td>0.0</td>\n      <td>93.8</td>\n      <td>4.5</td>\n      <td>7.1</td>\n      <td>7.1</td>\n    </tr>\n    <tr>\n      <th>15</th>\n      <td>89.0</td>\n      <td>89.0</td>\n      <td>0.0</td>\n      <td>95.6</td>\n      <td>4.0</td>\n      <td>6.6</td>\n      <td>6.6</td>\n    </tr>\n    <tr>\n      <th>16</th>\n      <td>93.0</td>\n      <td>93.8</td>\n      <td>0.7</td>\n      <td>98.8</td>\n      <td>4.5</td>\n      <td>5.1</td>\n      <td>5.8</td>\n    </tr>\n    <tr>\n      <th>17</th>\n      <td>101.9</td>\n      <td>101.9</td>\n      <td>0.0</td>\n      <td>108.7</td>\n      <td>4.4</td>\n      <td>6.8</td>\n      <td>6.8</td>\n    </tr>\n    <tr>\n      <th>18</th>\n      <td>106.7</td>\n      <td>106.7</td>\n      <td>0.0</td>\n      <td>116.9</td>\n      <td>5.7</td>\n      <td>10.2</td>\n      <td>10.2</td>\n    </tr>\n    <tr>\n      <th>19</th>\n      <td>116.6</td>\n      <td>116.6</td>\n      <td>0.0</td>\n      <td>122.7</td>\n      <td>4.1</td>\n      <td>6.1</td>\n      <td>6.1</td>\n    </tr>\n    <tr>\n      <th>20</th>\n      <td>120.9</td>\n      <td>120.9</td>\n      <td>0.0</td>\n      <td>127.1</td>\n      <td>4.3</td>\n      <td>6.2</td>\n      <td>6.2</td>\n    </tr>\n  </tbody>\n</table>\n</div>"
     },
     "metadata": {},
     "execution_count": 15
    }
   ],
   "source": [
    "np_arr = np.array(data).reshape(n_customer,-1)\n",
    "labels = [*range(1,n_customer+1)]\n",
    "\n",
    "# np_arr.shape\n",
    "df=pd.DataFrame(data = np_arr,index=labels,columns=column_names)\n",
    "df"
   ]
  },
  {
   "cell_type": "code",
   "execution_count": 17,
   "metadata": {},
   "outputs": [
    {
     "output_type": "stream",
     "name": "stdout",
     "text": [
      "\n\nCounter Total Idle Time => 65.95 Minutes\n\nAverage Waiting Time => 4.88 Minutes\nAverage Service Time => 7.12 Minutes\nAverage Time Spent In System => 7.93 Minutes\n"
     ]
    }
   ],
   "source": [
    "total_wait_time = np.sum(df[\"Total Wait Time\"])\n",
    "\n",
    "total_time_in_system = np.sum(df[\"Total Time in System\"])\n",
    "\n",
    "total_service_time = np.sum(df['Total Service Time'])\n",
    "\n",
    "\n",
    "print(\"\")\n",
    "\n",
    "def display(i):\n",
    "    print()\n",
    "    print(\"Counter Total Idle Time => %.2f Minutes\" % counter_total_wait_times)\n",
    "    print()\n",
    "    print(\"Average Waiting Time => %.2f Minutes\" % (total_wait_time / i))\n",
    "    print(\"Average Service Time => %.2f Minutes\" % (total_service_time / i))\n",
    "    print(\"Average Time Spent In System => %.2f Minutes\" % (total_time_in_system / i))\n",
    "\n",
    "display(n_customer)"
   ]
  },
  {
   "cell_type": "code",
   "execution_count": null,
   "metadata": {},
   "outputs": [],
   "source": []
  }
 ],
 "metadata": {
  "kernelspec": {
   "display_name": "PyCharm (code)",
   "language": "python",
   "name": "pycharm-34c40bc0"
  },
  "language_info": {
   "codemirror_mode": {
    "name": "ipython",
    "version": 3
   },
   "file_extension": ".py",
   "mimetype": "text/x-python",
   "name": "python",
   "nbconvert_exporter": "python",
   "pygments_lexer": "ipython3",
   "version": "3.8.5-final"
  }
 },
 "nbformat": 4,
 "nbformat_minor": 4
}